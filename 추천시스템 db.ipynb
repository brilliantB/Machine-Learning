{
 "cells": [
  {
   "cell_type": "code",
   "execution_count": 2,
   "id": "dfbd6795",
   "metadata": {},
   "outputs": [],
   "source": [
    "import pymysql"
   ]
  },
  {
   "cell_type": "code",
   "execution_count": 3,
   "id": "a4b4c5d3",
   "metadata": {},
   "outputs": [],
   "source": [
    "def connect():\n",
    "    con = pymysql.connect(\n",
    "        host = 'localhost',\n",
    "        port = 3306,\n",
    "        user = 'root',\n",
    "        password = 'gkdks120',\n",
    "        db = 'ML_DB',\n",
    "        charset = 'utf8'\n",
    "    )\n",
    "    print('1. 연결성공')\n",
    "    cur = con.cursor()\n",
    "    print('2. 커서 객체 획득')\n",
    "    return cur,con"
   ]
  },
  {
   "cell_type": "code",
   "execution_count": 38,
   "id": "c6d5f290",
   "metadata": {},
   "outputs": [
    {
     "name": "stdout",
     "output_type": "stream",
     "text": [
      "1. 연결성공\n",
      "2. 커서 객체 획득\n"
     ]
    },
    {
     "data": {
      "text/plain": [
       "<pymysql.cursors.Cursor at 0x7fb2b80a41c0>"
      ]
     },
     "execution_count": 38,
     "metadata": {},
     "output_type": "execute_result"
    }
   ],
   "source": [
    "cur2, con = connect()\n",
    "cur2"
   ]
  },
  {
   "cell_type": "code",
   "execution_count": 5,
   "id": "202fe1d4",
   "metadata": {},
   "outputs": [],
   "source": [
    "def sql_execute(cur2, data):\n",
    "    sql = '''\n",
    "    select o2.orderid, m.name, o2.productid, o2.totalprice\n",
    "    from orderlist o2\n",
    "    inner join `member` m\n",
    "    on o2.memberid = m.id and m.id = %s\n",
    "    order by productid desc\n",
    "    '''\n",
    "    result = cur2.execute(sql,data)\n",
    "    return result"
   ]
  },
  {
   "cell_type": "code",
   "execution_count": 6,
   "id": "222e899f",
   "metadata": {},
   "outputs": [
    {
     "data": {
      "text/plain": [
       "4"
      ]
     },
     "execution_count": 6,
     "metadata": {},
     "output_type": "execute_result"
    }
   ],
   "source": [
    "sql_result = sql_execute(cur2, 'park')\n",
    "sql_result"
   ]
  },
  {
   "cell_type": "code",
   "execution_count": 7,
   "id": "0f79cfb6",
   "metadata": {},
   "outputs": [],
   "source": [
    "## 1. 누가 어떤 물건을 얼마나 샀는가?"
   ]
  },
  {
   "cell_type": "code",
   "execution_count": 8,
   "id": "5bbbb571",
   "metadata": {},
   "outputs": [
    {
     "name": "stdout",
     "output_type": "stream",
     "text": [
      "누가?? >> park\n"
     ]
    }
   ],
   "source": [
    "who = input('누가?? >> ')"
   ]
  },
  {
   "cell_type": "code",
   "execution_count": 9,
   "id": "596194e3",
   "metadata": {},
   "outputs": [
    {
     "data": {
      "text/plain": [
       "4"
      ]
     },
     "execution_count": 9,
     "metadata": {},
     "output_type": "execute_result"
    }
   ],
   "source": [
    "sql_result2 = sql_execute(cur2,who)\n",
    "sql_result2"
   ]
  },
  {
   "cell_type": "code",
   "execution_count": 10,
   "id": "134c5ee6",
   "metadata": {},
   "outputs": [],
   "source": [
    "def out_data(cur2):\n",
    "    rows = cur2.fetchall()\n",
    "    return rows"
   ]
  },
  {
   "cell_type": "code",
   "execution_count": 11,
   "id": "cbaf7e75",
   "metadata": {},
   "outputs": [
    {
     "data": {
      "text/plain": [
       "((2, 'park', '101', 6000),\n",
       " (1, 'park', '100', 5000),\n",
       " (3, 'park', '100', 10000),\n",
       " (4, 'park', '100', 3000))"
      ]
     },
     "execution_count": 11,
     "metadata": {},
     "output_type": "execute_result"
    }
   ],
   "source": [
    "result_rows = out_data(cur2)\n",
    "result_rows"
   ]
  },
  {
   "cell_type": "code",
   "execution_count": 12,
   "id": "dd24d212",
   "metadata": {},
   "outputs": [],
   "source": [
    "def db_close(con):\n",
    "    con.close()"
   ]
  },
  {
   "cell_type": "code",
   "execution_count": 13,
   "id": "700e45d4",
   "metadata": {},
   "outputs": [],
   "source": [
    "db_close(con)"
   ]
  },
  {
   "cell_type": "code",
   "execution_count": 14,
   "id": "2e8699df",
   "metadata": {},
   "outputs": [],
   "source": [
    "## 제일 높은 금액은?"
   ]
  },
  {
   "cell_type": "code",
   "execution_count": 17,
   "id": "c673e1ac",
   "metadata": {},
   "outputs": [
    {
     "data": {
      "text/plain": [
       "[6000, 5000, 10000, 3000]"
      ]
     },
     "execution_count": 17,
     "metadata": {},
     "output_type": "execute_result"
    }
   ],
   "source": [
    "[x[3] for x in result_rows]"
   ]
  },
  {
   "cell_type": "code",
   "execution_count": 18,
   "id": "46b9f06d",
   "metadata": {},
   "outputs": [
    {
     "data": {
      "text/plain": [
       "10000"
      ]
     },
     "execution_count": 18,
     "metadata": {},
     "output_type": "execute_result"
    }
   ],
   "source": [
    "max([x[3] for x in result_rows])"
   ]
  },
  {
   "cell_type": "code",
   "execution_count": 19,
   "id": "e72ef934",
   "metadata": {},
   "outputs": [],
   "source": [
    "## 제일 많이 산 물건의 id는?"
   ]
  },
  {
   "cell_type": "code",
   "execution_count": 20,
   "id": "6dd125be",
   "metadata": {},
   "outputs": [],
   "source": [
    "import pandas as pd"
   ]
  },
  {
   "cell_type": "code",
   "execution_count": 22,
   "id": "cd593094",
   "metadata": {},
   "outputs": [],
   "source": [
    "result_df = pd.DataFrame(data=result_rows,\n",
    "                        columns=['주문id','name','제품id','주문총가격'])"
   ]
  },
  {
   "cell_type": "code",
   "execution_count": 23,
   "id": "8f3a2653",
   "metadata": {},
   "outputs": [
    {
     "data": {
      "text/html": [
       "<div>\n",
       "<style scoped>\n",
       "    .dataframe tbody tr th:only-of-type {\n",
       "        vertical-align: middle;\n",
       "    }\n",
       "\n",
       "    .dataframe tbody tr th {\n",
       "        vertical-align: top;\n",
       "    }\n",
       "\n",
       "    .dataframe thead th {\n",
       "        text-align: right;\n",
       "    }\n",
       "</style>\n",
       "<table border=\"1\" class=\"dataframe\">\n",
       "  <thead>\n",
       "    <tr style=\"text-align: right;\">\n",
       "      <th></th>\n",
       "      <th>주문id</th>\n",
       "      <th>name</th>\n",
       "      <th>제품id</th>\n",
       "      <th>주문총가격</th>\n",
       "    </tr>\n",
       "  </thead>\n",
       "  <tbody>\n",
       "    <tr>\n",
       "      <th>0</th>\n",
       "      <td>2</td>\n",
       "      <td>park</td>\n",
       "      <td>101</td>\n",
       "      <td>6000</td>\n",
       "    </tr>\n",
       "    <tr>\n",
       "      <th>1</th>\n",
       "      <td>1</td>\n",
       "      <td>park</td>\n",
       "      <td>100</td>\n",
       "      <td>5000</td>\n",
       "    </tr>\n",
       "    <tr>\n",
       "      <th>2</th>\n",
       "      <td>3</td>\n",
       "      <td>park</td>\n",
       "      <td>100</td>\n",
       "      <td>10000</td>\n",
       "    </tr>\n",
       "    <tr>\n",
       "      <th>3</th>\n",
       "      <td>4</td>\n",
       "      <td>park</td>\n",
       "      <td>100</td>\n",
       "      <td>3000</td>\n",
       "    </tr>\n",
       "  </tbody>\n",
       "</table>\n",
       "</div>"
      ],
      "text/plain": [
       "   주문id  name 제품id  주문총가격\n",
       "0     2  park  101   6000\n",
       "1     1  park  100   5000\n",
       "2     3  park  100  10000\n",
       "3     4  park  100   3000"
      ]
     },
     "execution_count": 23,
     "metadata": {},
     "output_type": "execute_result"
    }
   ],
   "source": [
    "result_df"
   ]
  },
  {
   "cell_type": "code",
   "execution_count": 24,
   "id": "a9ed23af",
   "metadata": {},
   "outputs": [
    {
     "data": {
      "text/plain": [
       "['101', '100', '100', '100']"
      ]
     },
     "execution_count": 24,
     "metadata": {},
     "output_type": "execute_result"
    }
   ],
   "source": [
    "[x for x in result_df['제품id']]"
   ]
  },
  {
   "cell_type": "code",
   "execution_count": 25,
   "id": "cd3aab25",
   "metadata": {},
   "outputs": [],
   "source": [
    "from collections import Counter"
   ]
  },
  {
   "cell_type": "code",
   "execution_count": 26,
   "id": "657f0722",
   "metadata": {},
   "outputs": [],
   "source": [
    "counter_id = Counter(result_df['제품id'])"
   ]
  },
  {
   "cell_type": "code",
   "execution_count": 27,
   "id": "1eb6170b",
   "metadata": {},
   "outputs": [
    {
     "data": {
      "text/plain": [
       "Counter({'101': 1, '100': 3})"
      ]
     },
     "execution_count": 27,
     "metadata": {},
     "output_type": "execute_result"
    }
   ],
   "source": [
    "counter_id"
   ]
  },
  {
   "cell_type": "code",
   "execution_count": 28,
   "id": "a6b2ab86",
   "metadata": {},
   "outputs": [
    {
     "name": "stdout",
     "output_type": "stream",
     "text": [
      "[('100', 3)]\n",
      "100\n"
     ]
    },
    {
     "data": {
      "text/plain": [
       "'100'"
      ]
     },
     "execution_count": 28,
     "metadata": {},
     "output_type": "execute_result"
    }
   ],
   "source": [
    "max_id = counter_id.most_common(n=1)\n",
    "print(max_id)\n",
    "print(max_id[0][0])\n",
    "max_id_result = max_id[0][0]\n",
    "max_id_result"
   ]
  },
  {
   "cell_type": "code",
   "execution_count": 29,
   "id": "d4533e92",
   "metadata": {},
   "outputs": [],
   "source": [
    "def sql_execute2(cur2,data):\n",
    "    sql = '''\n",
    "    select * from product\n",
    "    where id = %s\n",
    "    '''\n",
    "    result2 = cur2.execute(sql,data)\n",
    "    return result2"
   ]
  },
  {
   "cell_type": "code",
   "execution_count": 30,
   "id": "c53a3387",
   "metadata": {},
   "outputs": [
    {
     "name": "stdout",
     "output_type": "stream",
     "text": [
      "1. 연결성공\n",
      "2. 커서 객체 획득\n"
     ]
    },
    {
     "data": {
      "text/plain": [
       "<pymysql.cursors.Cursor at 0x7fb2b8070fd0>"
      ]
     },
     "execution_count": 30,
     "metadata": {},
     "output_type": "execute_result"
    }
   ],
   "source": [
    "cur2, con = connect()\n",
    "cur2"
   ]
  },
  {
   "cell_type": "code",
   "execution_count": 31,
   "id": "fe88e3a7",
   "metadata": {},
   "outputs": [
    {
     "data": {
      "text/plain": [
       "1"
      ]
     },
     "execution_count": 31,
     "metadata": {},
     "output_type": "execute_result"
    }
   ],
   "source": [
    "sql_result2 = sql_execute2(cur2, max_id_result)\n",
    "sql_result2"
   ]
  },
  {
   "cell_type": "code",
   "execution_count": 32,
   "id": "b6f8860a",
   "metadata": {},
   "outputs": [
    {
     "data": {
      "text/plain": [
       "('100', 'java', 'fun java', '1000')"
      ]
     },
     "execution_count": 32,
     "metadata": {},
     "output_type": "execute_result"
    }
   ],
   "source": [
    "result_rows = out_data(cur2)\n",
    "result_rows[0]"
   ]
  },
  {
   "cell_type": "code",
   "execution_count": 33,
   "id": "8080bbd7",
   "metadata": {},
   "outputs": [
    {
     "name": "stdout",
     "output_type": "stream",
     "text": [
      "당신에게 추천하고 싶은 물건은 다음과 같습니다.\n",
      "------------------------------------\n",
      "물건의 이름은  java\n",
      "물건의 내용은 fun java\n",
      "물건의 가격은 1000\n"
     ]
    }
   ],
   "source": [
    "print('당신에게 추천하고 싶은 물건은 다음과 같습니다.')\n",
    "print('------------------------------------')\n",
    "print('물건의 이름은 ',result_rows[0][1])\n",
    "print('물건의 내용은', result_rows[0][2])\n",
    "print('물건의 가격은', result_rows[0][3])"
   ]
  },
  {
   "cell_type": "code",
   "execution_count": 34,
   "id": "7eb7d118",
   "metadata": {},
   "outputs": [],
   "source": [
    "def sql_execute3(con,cur2,data):\n",
    "    sql = '''\n",
    "    insert into orderlist values (null,%s,%s,%s)\n",
    "    '''\n",
    "    result2 = cur2.execute(sql,data)\n",
    "    con.commit()\n",
    "    return result2"
   ]
  },
  {
   "cell_type": "code",
   "execution_count": 35,
   "id": "345c53b9",
   "metadata": {},
   "outputs": [
    {
     "name": "stdout",
     "output_type": "stream",
     "text": [
      "구매하시겠습니까?(yes/no)yes\n",
      "---------구매를 진행합니다.----------\n",
      "당신의 id는 park\n",
      "---구매가 완료되었습니다.\n"
     ]
    }
   ],
   "source": [
    "order_question = input('구매하시겠습니까?(yes/no)')\n",
    "if order_question == 'yes':\n",
    "    print('---------구매를 진행합니다.----------')\n",
    "    your_id = input('당신의 id는 ')\n",
    "    data_list = [your_id, result_rows[0][0], int(result_rows[0][3])]\n",
    "    result3 = sql_execute3(con,cur2,data_list)\n",
    "    if result3 == 1:\n",
    "        print('---구매가 완료되었습니다.')\n",
    "    else:\n",
    "        print('---구매에 문제가 발생했습니다.')"
   ]
  },
  {
   "cell_type": "code",
   "execution_count": 36,
   "id": "57481c4b",
   "metadata": {},
   "outputs": [],
   "source": [
    "con.close()"
   ]
  },
  {
   "cell_type": "code",
   "execution_count": null,
   "id": "f1d77721",
   "metadata": {},
   "outputs": [],
   "source": [
    "# 추천을 하고자 하는 컨텐츠기반 룰을 정하고,\n",
    "# 물건을 3개 이상 추천하는 추천시스템을 완성하시오\n",
    "# db의 데이터를 임의로 추가할 수 있음"
   ]
  }
 ],
 "metadata": {
  "kernelspec": {
   "display_name": "Python 3",
   "language": "python",
   "name": "python3"
  },
  "language_info": {
   "codemirror_mode": {
    "name": "ipython",
    "version": 3
   },
   "file_extension": ".py",
   "mimetype": "text/x-python",
   "name": "python",
   "nbconvert_exporter": "python",
   "pygments_lexer": "ipython3",
   "version": "3.8.8"
  },
  "toc": {
   "base_numbering": 1,
   "nav_menu": {},
   "number_sections": true,
   "sideBar": true,
   "skip_h1_title": false,
   "title_cell": "Table of Contents",
   "title_sidebar": "Contents",
   "toc_cell": false,
   "toc_position": {},
   "toc_section_display": true,
   "toc_window_display": false
  }
 },
 "nbformat": 4,
 "nbformat_minor": 5
}
