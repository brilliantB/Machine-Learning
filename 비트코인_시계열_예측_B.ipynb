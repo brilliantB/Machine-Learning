{
  "nbformat": 4,
  "nbformat_minor": 0,
  "metadata": {
    "colab": {
      "name": "비트코인 시계열 예측_B.ipynb",
      "provenance": [],
      "collapsed_sections": []
    },
    "kernelspec": {
      "name": "python3",
      "display_name": "Python 3"
    },
    "language_info": {
      "name": "python"
    }
  },
  "cells": [
    {
      "cell_type": "code",
      "execution_count": 1,
      "metadata": {
        "id": "yO431UOy7GYm"
      },
      "outputs": [],
      "source": [
        "import pandas as pd\n",
        "import numpy as np\n",
        "import matplotlib.pyplot as plt"
      ]
    },
    {
      "cell_type": "code",
      "source": [
        "file_path = '/content/block3.csv'\n",
        "bitcoin_df = pd.read_csv(file_path, names = ['day', 'price'])"
      ],
      "metadata": {
        "id": "6IuEgPOZ7wQ_"
      },
      "execution_count": 2,
      "outputs": []
    },
    {
      "cell_type": "code",
      "source": [
        "bitcoin_df"
      ],
      "metadata": {
        "colab": {
          "base_uri": "https://localhost:8080/",
          "height": 424
        },
        "id": "Ri5-yecc8Blx",
        "outputId": "a314f45e-9d24-48c1-e59b-7ea42fff0b3d"
      },
      "execution_count": 5,
      "outputs": [
        {
          "output_type": "execute_result",
          "data": {
            "text/html": [
              "<div>\n",
              "<style scoped>\n",
              "    .dataframe tbody tr th:only-of-type {\n",
              "        vertical-align: middle;\n",
              "    }\n",
              "\n",
              "    .dataframe tbody tr th {\n",
              "        vertical-align: top;\n",
              "    }\n",
              "\n",
              "    .dataframe thead th {\n",
              "        text-align: right;\n",
              "    }\n",
              "</style>\n",
              "<table border=\"1\" class=\"dataframe\">\n",
              "  <thead>\n",
              "    <tr style=\"text-align: right;\">\n",
              "      <th></th>\n",
              "      <th>day</th>\n",
              "      <th>price</th>\n",
              "    </tr>\n",
              "  </thead>\n",
              "  <tbody>\n",
              "    <tr>\n",
              "      <th>0</th>\n",
              "      <td>2020-12-09</td>\n",
              "      <td>18318.87</td>\n",
              "    </tr>\n",
              "    <tr>\n",
              "      <th>1</th>\n",
              "      <td>2020-12-10</td>\n",
              "      <td>18554.15</td>\n",
              "    </tr>\n",
              "    <tr>\n",
              "      <th>2</th>\n",
              "      <td>2020-12-11</td>\n",
              "      <td>18247.76</td>\n",
              "    </tr>\n",
              "    <tr>\n",
              "      <th>3</th>\n",
              "      <td>2020-12-12</td>\n",
              "      <td>18029.36</td>\n",
              "    </tr>\n",
              "    <tr>\n",
              "      <th>4</th>\n",
              "      <td>2020-12-13</td>\n",
              "      <td>18803.44</td>\n",
              "    </tr>\n",
              "    <tr>\n",
              "      <th>...</th>\n",
              "      <td>...</td>\n",
              "      <td>...</td>\n",
              "    </tr>\n",
              "    <tr>\n",
              "      <th>361</th>\n",
              "      <td>2021-12-05</td>\n",
              "      <td>49253.86</td>\n",
              "    </tr>\n",
              "    <tr>\n",
              "      <th>362</th>\n",
              "      <td>2021-12-06</td>\n",
              "      <td>49380.43</td>\n",
              "    </tr>\n",
              "    <tr>\n",
              "      <th>363</th>\n",
              "      <td>2021-12-07</td>\n",
              "      <td>50564.63</td>\n",
              "    </tr>\n",
              "    <tr>\n",
              "      <th>364</th>\n",
              "      <td>2021-12-08</td>\n",
              "      <td>50645.41</td>\n",
              "    </tr>\n",
              "    <tr>\n",
              "      <th>365</th>\n",
              "      <td>2021-12-09</td>\n",
              "      <td>50511.12</td>\n",
              "    </tr>\n",
              "  </tbody>\n",
              "</table>\n",
              "<p>366 rows × 2 columns</p>\n",
              "</div>"
            ],
            "text/plain": [
              "            day     price\n",
              "0    2020-12-09  18318.87\n",
              "1    2020-12-10  18554.15\n",
              "2    2020-12-11  18247.76\n",
              "3    2020-12-12  18029.36\n",
              "4    2020-12-13  18803.44\n",
              "..          ...       ...\n",
              "361  2021-12-05  49253.86\n",
              "362  2021-12-06  49380.43\n",
              "363  2021-12-07  50564.63\n",
              "364  2021-12-08  50645.41\n",
              "365  2021-12-09  50511.12\n",
              "\n",
              "[366 rows x 2 columns]"
            ]
          },
          "metadata": {},
          "execution_count": 5
        }
      ]
    },
    {
      "cell_type": "code",
      "source": [
        "bitcoin_train_df = bitcoin_df.iloc[:361]\n",
        "bitcoin_train_df"
      ],
      "metadata": {
        "colab": {
          "base_uri": "https://localhost:8080/",
          "height": 424
        },
        "id": "HwaOsRmV8KhF",
        "outputId": "91797f2f-a870-4ec1-8fa0-a1c0c70a0a46"
      },
      "execution_count": 7,
      "outputs": [
        {
          "output_type": "execute_result",
          "data": {
            "text/html": [
              "<div>\n",
              "<style scoped>\n",
              "    .dataframe tbody tr th:only-of-type {\n",
              "        vertical-align: middle;\n",
              "    }\n",
              "\n",
              "    .dataframe tbody tr th {\n",
              "        vertical-align: top;\n",
              "    }\n",
              "\n",
              "    .dataframe thead th {\n",
              "        text-align: right;\n",
              "    }\n",
              "</style>\n",
              "<table border=\"1\" class=\"dataframe\">\n",
              "  <thead>\n",
              "    <tr style=\"text-align: right;\">\n",
              "      <th></th>\n",
              "      <th>day</th>\n",
              "      <th>price</th>\n",
              "    </tr>\n",
              "  </thead>\n",
              "  <tbody>\n",
              "    <tr>\n",
              "      <th>0</th>\n",
              "      <td>2020-12-09</td>\n",
              "      <td>18318.87</td>\n",
              "    </tr>\n",
              "    <tr>\n",
              "      <th>1</th>\n",
              "      <td>2020-12-10</td>\n",
              "      <td>18554.15</td>\n",
              "    </tr>\n",
              "    <tr>\n",
              "      <th>2</th>\n",
              "      <td>2020-12-11</td>\n",
              "      <td>18247.76</td>\n",
              "    </tr>\n",
              "    <tr>\n",
              "      <th>3</th>\n",
              "      <td>2020-12-12</td>\n",
              "      <td>18029.36</td>\n",
              "    </tr>\n",
              "    <tr>\n",
              "      <th>4</th>\n",
              "      <td>2020-12-13</td>\n",
              "      <td>18803.44</td>\n",
              "    </tr>\n",
              "    <tr>\n",
              "      <th>...</th>\n",
              "      <td>...</td>\n",
              "      <td>...</td>\n",
              "    </tr>\n",
              "    <tr>\n",
              "      <th>356</th>\n",
              "      <td>2021-11-30</td>\n",
              "      <td>57828.45</td>\n",
              "    </tr>\n",
              "    <tr>\n",
              "      <th>357</th>\n",
              "      <td>2021-12-01</td>\n",
              "      <td>57025.79</td>\n",
              "    </tr>\n",
              "    <tr>\n",
              "      <th>358</th>\n",
              "      <td>2021-12-02</td>\n",
              "      <td>57229.76</td>\n",
              "    </tr>\n",
              "    <tr>\n",
              "      <th>359</th>\n",
              "      <td>2021-12-03</td>\n",
              "      <td>56508.48</td>\n",
              "    </tr>\n",
              "    <tr>\n",
              "      <th>360</th>\n",
              "      <td>2021-12-04</td>\n",
              "      <td>53713.84</td>\n",
              "    </tr>\n",
              "  </tbody>\n",
              "</table>\n",
              "<p>361 rows × 2 columns</p>\n",
              "</div>"
            ],
            "text/plain": [
              "            day     price\n",
              "0    2020-12-09  18318.87\n",
              "1    2020-12-10  18554.15\n",
              "2    2020-12-11  18247.76\n",
              "3    2020-12-12  18029.36\n",
              "4    2020-12-13  18803.44\n",
              "..          ...       ...\n",
              "356  2021-11-30  57828.45\n",
              "357  2021-12-01  57025.79\n",
              "358  2021-12-02  57229.76\n",
              "359  2021-12-03  56508.48\n",
              "360  2021-12-04  53713.84\n",
              "\n",
              "[361 rows x 2 columns]"
            ]
          },
          "metadata": {},
          "execution_count": 7
        }
      ]
    },
    {
      "cell_type": "code",
      "source": [
        "pd.to_datetime(bitcoin_train_df['day'])"
      ],
      "metadata": {
        "colab": {
          "base_uri": "https://localhost:8080/"
        },
        "id": "PXEsOcqL8KkC",
        "outputId": "759ff5ff-69c2-445a-86b2-8574ca713384"
      },
      "execution_count": 16,
      "outputs": [
        {
          "output_type": "execute_result",
          "data": {
            "text/plain": [
              "0     2020-12-09\n",
              "1     2020-12-10\n",
              "2     2020-12-11\n",
              "3     2020-12-12\n",
              "4     2020-12-13\n",
              "         ...    \n",
              "356   2021-11-30\n",
              "357   2021-12-01\n",
              "358   2021-12-02\n",
              "359   2021-12-03\n",
              "360   2021-12-04\n",
              "Name: day, Length: 361, dtype: datetime64[ns]"
            ]
          },
          "metadata": {},
          "execution_count": 16
        }
      ]
    },
    {
      "cell_type": "code",
      "source": [
        "bitcoin_train_df['day'] = pd.to_datetime(bitcoin_train_df['day'])\n",
        "bitcoin_train_df.index = bitcoin_train_df['day']\n",
        "bitcoin_train_df.set_index('day', inplace=True)\n",
        "bitcoin_train_df"
      ],
      "metadata": {
        "colab": {
          "base_uri": "https://localhost:8080/",
          "height": 565
        },
        "id": "AwX-u5uz8KpW",
        "outputId": "933da534-f362-400c-f509-39f85deb3c09"
      },
      "execution_count": 17,
      "outputs": [
        {
          "output_type": "stream",
          "name": "stderr",
          "text": [
            "/usr/local/lib/python3.7/dist-packages/ipykernel_launcher.py:1: SettingWithCopyWarning: \n",
            "A value is trying to be set on a copy of a slice from a DataFrame.\n",
            "Try using .loc[row_indexer,col_indexer] = value instead\n",
            "\n",
            "See the caveats in the documentation: https://pandas.pydata.org/pandas-docs/stable/user_guide/indexing.html#returning-a-view-versus-a-copy\n",
            "  \"\"\"Entry point for launching an IPython kernel.\n"
          ]
        },
        {
          "output_type": "execute_result",
          "data": {
            "text/html": [
              "<div>\n",
              "<style scoped>\n",
              "    .dataframe tbody tr th:only-of-type {\n",
              "        vertical-align: middle;\n",
              "    }\n",
              "\n",
              "    .dataframe tbody tr th {\n",
              "        vertical-align: top;\n",
              "    }\n",
              "\n",
              "    .dataframe thead th {\n",
              "        text-align: right;\n",
              "    }\n",
              "</style>\n",
              "<table border=\"1\" class=\"dataframe\">\n",
              "  <thead>\n",
              "    <tr style=\"text-align: right;\">\n",
              "      <th></th>\n",
              "      <th>price</th>\n",
              "    </tr>\n",
              "    <tr>\n",
              "      <th>day</th>\n",
              "      <th></th>\n",
              "    </tr>\n",
              "  </thead>\n",
              "  <tbody>\n",
              "    <tr>\n",
              "      <th>2020-12-09</th>\n",
              "      <td>18318.87</td>\n",
              "    </tr>\n",
              "    <tr>\n",
              "      <th>2020-12-10</th>\n",
              "      <td>18554.15</td>\n",
              "    </tr>\n",
              "    <tr>\n",
              "      <th>2020-12-11</th>\n",
              "      <td>18247.76</td>\n",
              "    </tr>\n",
              "    <tr>\n",
              "      <th>2020-12-12</th>\n",
              "      <td>18029.36</td>\n",
              "    </tr>\n",
              "    <tr>\n",
              "      <th>2020-12-13</th>\n",
              "      <td>18803.44</td>\n",
              "    </tr>\n",
              "    <tr>\n",
              "      <th>...</th>\n",
              "      <td>...</td>\n",
              "    </tr>\n",
              "    <tr>\n",
              "      <th>2021-11-30</th>\n",
              "      <td>57828.45</td>\n",
              "    </tr>\n",
              "    <tr>\n",
              "      <th>2021-12-01</th>\n",
              "      <td>57025.79</td>\n",
              "    </tr>\n",
              "    <tr>\n",
              "      <th>2021-12-02</th>\n",
              "      <td>57229.76</td>\n",
              "    </tr>\n",
              "    <tr>\n",
              "      <th>2021-12-03</th>\n",
              "      <td>56508.48</td>\n",
              "    </tr>\n",
              "    <tr>\n",
              "      <th>2021-12-04</th>\n",
              "      <td>53713.84</td>\n",
              "    </tr>\n",
              "  </tbody>\n",
              "</table>\n",
              "<p>361 rows × 1 columns</p>\n",
              "</div>"
            ],
            "text/plain": [
              "               price\n",
              "day                 \n",
              "2020-12-09  18318.87\n",
              "2020-12-10  18554.15\n",
              "2020-12-11  18247.76\n",
              "2020-12-12  18029.36\n",
              "2020-12-13  18803.44\n",
              "...              ...\n",
              "2021-11-30  57828.45\n",
              "2021-12-01  57025.79\n",
              "2021-12-02  57229.76\n",
              "2021-12-03  56508.48\n",
              "2021-12-04  53713.84\n",
              "\n",
              "[361 rows x 1 columns]"
            ]
          },
          "metadata": {},
          "execution_count": 17
        }
      ]
    },
    {
      "cell_type": "code",
      "source": [
        "bitcoin_train_df.plot()\n",
        "plt.show()"
      ],
      "metadata": {
        "colab": {
          "base_uri": "https://localhost:8080/",
          "height": 295
        },
        "id": "tsEzowkx8Kse",
        "outputId": "70f5eb35-6c95-4a19-d7ad-8208b4676bf8"
      },
      "execution_count": 18,
      "outputs": [
        {
          "output_type": "display_data",
          "data": {
            "image/png": "[encoded data removed]",
            "text/plain": [
              "<Figure size 432x288 with 1 Axes>"
            ]
          },
          "metadata": {
            "needs_background": "light"
          }
        }
      ]
    },
    {
      "cell_type": "markdown",
      "source": [
        "# ARIMA 모델"
      ],
      "metadata": {
        "id": "NkuAJt7s8Mzq"
      }
    },
    {
      "cell_type": "code",
      "source": [
        "### ARIMA 모델 = AR + I + MA \n",
        "### AR : AutoRegression, 이전 데이터들에서 학습한 내용을 가지고 예측\n",
        "### NA : Moving Average, 이전 데이터들의 오차를 반영해서 예측\n",
        "### I : Defference, 차이"
      ],
      "metadata": {
        "id": "V9u1HWMf8n8V"
      },
      "execution_count": 9,
      "outputs": []
    },
    {
      "cell_type": "code",
      "source": [
        "from statsmodels.tsa.arima_model import ARIMA\n",
        "import statsmodels.api as sm"
      ],
      "metadata": {
        "id": "3DnvN6xD-A-l"
      },
      "execution_count": 12,
      "outputs": []
    },
    {
      "cell_type": "code",
      "source": [
        "# (AR = 2, 차분 =1, MA=2) 파라미터로 ARIMA 모델을 학습한다.\n",
        "model = ARIMA(bitcoin_train_df.price.values, order = (2,1,2))\n",
        "model"
      ],
      "metadata": {
        "colab": {
          "base_uri": "https://localhost:8080/"
        },
        "id": "4rhthj6S-NsW",
        "outputId": "6fcb9b40-cea4-4e2c-bd5d-540783f95a2d"
      },
      "execution_count": 19,
      "outputs": [
        {
          "output_type": "execute_result",
          "data": {
            "text/plain": [
              "<statsmodels.tsa.arima_model.ARIMA at 0x7f6eb05fc110>"
            ]
          },
          "metadata": {},
          "execution_count": 19
        }
      ]
    },
    {
      "cell_type": "code",
      "source": [
        "model_fit = model.fit(trend='c', full_output = True, disp = True )     # trend = 'c' 의 의미는 trend성을 부여하지 않는다. \n",
        "model_fit"
      ],
      "metadata": {
        "colab": {
          "base_uri": "https://localhost:8080/"
        },
        "id": "EXSdwuB5-_id",
        "outputId": "8b944ef7-e57e-4e2d-ab0b-5074450e3079"
      },
      "execution_count": 20,
      "outputs": [
        {
          "output_type": "execute_result",
          "data": {
            "text/plain": [
              "<statsmodels.tsa.arima_model.ARIMAResultsWrapper at 0x7f6eb16d5590>"
            ]
          },
          "metadata": {},
          "execution_count": 20
        }
      ]
    },
    {
      "cell_type": "code",
      "source": [
        "model_fit.summary()"
      ],
      "metadata": {
        "colab": {
          "base_uri": "https://localhost:8080/",
          "height": 425
        },
        "id": "0hDy-qN9_VaS",
        "outputId": "d40b8165-b3df-47b9-c125-b9d0adbfac74"
      },
      "execution_count": 21,
      "outputs": [
        {
          "output_type": "execute_result",
          "data": {
            "text/html": [
              "<table class=\"simpletable\">\n",
              "<caption>ARIMA Model Results</caption>\n",
              "<tr>\n",
              "  <th>Dep. Variable:</th>        <td>D.y</td>       <th>  No. Observations:  </th>    <td>360</td>   \n",
              "</tr>\n",
              "<tr>\n",
              "  <th>Model:</th>          <td>ARIMA(2, 1, 2)</td>  <th>  Log Likelihood     </th> <td>-3225.895</td>\n",
              "</tr>\n",
              "<tr>\n",
              "  <th>Method:</th>             <td>css-mle</td>     <th>  S.D. of innovations</th> <td>1882.640</td> \n",
              "</tr>\n",
              "<tr>\n",
              "  <th>Date:</th>          <td>Fri, 10 Dec 2021</td> <th>  AIC                </th> <td>6463.790</td> \n",
              "</tr>\n",
              "<tr>\n",
              "  <th>Time:</th>              <td>01:40:51</td>     <th>  BIC                </th> <td>6487.107</td> \n",
              "</tr>\n",
              "<tr>\n",
              "  <th>Sample:</th>                <td>1</td>        <th>  HQIC               </th> <td>6473.062</td> \n",
              "</tr>\n",
              "<tr>\n",
              "  <th></th>                       <td> </td>        <th>                     </th>     <td> </td>    \n",
              "</tr>\n",
              "</table>\n",
              "<table class=\"simpletable\">\n",
              "<tr>\n",
              "      <td></td>         <th>coef</th>     <th>std err</th>      <th>z</th>      <th>P>|z|</th>  <th>[0.025</th>    <th>0.975]</th>  \n",
              "</tr>\n",
              "<tr>\n",
              "  <th>const</th>     <td>   98.3396</td> <td>   99.476</td> <td>    0.989</td> <td> 0.324</td> <td>  -96.630</td> <td>  293.309</td>\n",
              "</tr>\n",
              "<tr>\n",
              "  <th>ar.L1.D.y</th> <td>    0.9184</td> <td>    0.040</td> <td>   23.086</td> <td> 0.000</td> <td>    0.840</td> <td>    0.996</td>\n",
              "</tr>\n",
              "<tr>\n",
              "  <th>ar.L2.D.y</th> <td>   -0.9440</td> <td>    0.032</td> <td>  -29.397</td> <td> 0.000</td> <td>   -1.007</td> <td>   -0.881</td>\n",
              "</tr>\n",
              "<tr>\n",
              "  <th>ma.L1.D.y</th> <td>   -0.9573</td> <td>    0.025</td> <td>  -38.369</td> <td> 0.000</td> <td>   -1.006</td> <td>   -0.908</td>\n",
              "</tr>\n",
              "<tr>\n",
              "  <th>ma.L2.D.y</th> <td>    0.9855</td> <td>    0.026</td> <td>   38.256</td> <td> 0.000</td> <td>    0.935</td> <td>    1.036</td>\n",
              "</tr>\n",
              "</table>\n",
              "<table class=\"simpletable\">\n",
              "<caption>Roots</caption>\n",
              "<tr>\n",
              "    <td></td>   <th>            Real</th>  <th>         Imaginary</th> <th>         Modulus</th>  <th>        Frequency</th>\n",
              "</tr>\n",
              "<tr>\n",
              "  <th>AR.1</th> <td>           0.4865</td> <td>          -0.9070j</td> <td>           1.0292</td> <td>          -0.1716</td>\n",
              "</tr>\n",
              "<tr>\n",
              "  <th>AR.2</th> <td>           0.4865</td> <td>          +0.9070j</td> <td>           1.0292</td> <td>           0.1716</td>\n",
              "</tr>\n",
              "<tr>\n",
              "  <th>MA.1</th> <td>           0.4857</td> <td>          -0.8825j</td> <td>           1.0073</td> <td>          -0.1699</td>\n",
              "</tr>\n",
              "<tr>\n",
              "  <th>MA.2</th> <td>           0.4857</td> <td>          +0.8825j</td> <td>           1.0073</td> <td>           0.1699</td>\n",
              "</tr>\n",
              "</table>"
            ],
            "text/plain": [
              "<class 'statsmodels.iolib.summary.Summary'>\n",
              "\"\"\"\n",
              "                             ARIMA Model Results                              \n",
              "==============================================================================\n",
              "Dep. Variable:                    D.y   No. Observations:                  360\n",
              "Model:                 ARIMA(2, 1, 2)   Log Likelihood               -3225.895\n",
              "Method:                       css-mle   S.D. of innovations           1882.640\n",
              "Date:                Fri, 10 Dec 2021   AIC                           6463.790\n",
              "Time:                        01:40:51   BIC                           6487.107\n",
              "Sample:                             1   HQIC                          6473.062\n",
              "                                                                              \n",
              "==============================================================================\n",
              "                 coef    std err          z      P>|z|      [0.025      0.975]\n",
              "------------------------------------------------------------------------------\n",
              "const         98.3396     99.476      0.989      0.324     -96.630     293.309\n",
              "ar.L1.D.y      0.9184      0.040     23.086      0.000       0.840       0.996\n",
              "ar.L2.D.y     -0.9440      0.032    -29.397      0.000      -1.007      -0.881\n",
              "ma.L1.D.y     -0.9573      0.025    -38.369      0.000      -1.006      -0.908\n",
              "ma.L2.D.y      0.9855      0.026     38.256      0.000       0.935       1.036\n",
              "                                    Roots                                    \n",
              "=============================================================================\n",
              "                  Real          Imaginary           Modulus         Frequency\n",
              "-----------------------------------------------------------------------------\n",
              "AR.1            0.4865           -0.9070j            1.0292           -0.1716\n",
              "AR.2            0.4865           +0.9070j            1.0292            0.1716\n",
              "MA.1            0.4857           -0.8825j            1.0073           -0.1699\n",
              "MA.2            0.4857           +0.8825j            1.0073            0.1699\n",
              "-----------------------------------------------------------------------------\n",
              "\"\"\""
            ]
          },
          "metadata": {},
          "execution_count": 21
        }
      ]
    },
    {
      "cell_type": "code",
      "source": [
        "# 학습 데이터에 대한 예측 결과\n",
        "fig = model_fit.plot_predict()"
      ],
      "metadata": {
        "colab": {
          "base_uri": "https://localhost:8080/",
          "height": 269
        },
        "id": "9EwMD74aCDJ2",
        "outputId": "2f6b60de-1565-4267-848f-7379ad5b75ed"
      },
      "execution_count": 25,
      "outputs": [
        {
          "output_type": "display_data",
          "data": {
            "image/png": "[encoded data removed]",
            "text/plain": [
              "<Figure size 432x288 with 1 Axes>"
            ]
          },
          "metadata": {
            "needs_background": "light"
          }
        }
      ]
    },
    {
      "cell_type": "code",
      "source": [
        "forcast_data = model_fit.forecast(steps = 5)   # 5일치를 살펴보자\n",
        "forcast_data"
      ],
      "metadata": {
        "colab": {
          "base_uri": "https://localhost:8080/"
        },
        "id": "iqKIY2I3CYEy",
        "outputId": "4f0df261-f1ed-49c7-89c0-71944b689329"
      },
      "execution_count": 27,
      "outputs": [
        {
          "output_type": "execute_result",
          "data": {
            "text/plain": [
              "(array([53878.45857826, 53927.91598273, 53918.79329405, 53964.57835171,\n",
              "        54116.09218292]),\n",
              " array([1882.64045638, 2611.29303477, 3183.32694848, 3707.12614891,\n",
              "        4194.32759583]),\n",
              " array([[50188.55108791, 57568.36606861],\n",
              "        [48809.87568149, 59045.95628396],\n",
              "        [47679.58712403, 60157.99946408],\n",
              "        [46698.74461369, 61230.41208973],\n",
              "        [45895.36115573, 62336.82321012]]))"
            ]
          },
          "metadata": {},
          "execution_count": 27
        }
      ]
    },
    {
      "cell_type": "code",
      "source": [
        "bitcoin_test_df = bitcoin_df[361:]\n",
        "bitcoin_test_df"
      ],
      "metadata": {
        "colab": {
          "base_uri": "https://localhost:8080/",
          "height": 206
        },
        "id": "ch-H1w_BJiBV",
        "outputId": "a86890c6-4fe2-4089-fc6e-16cc62ec8e08"
      },
      "execution_count": 28,
      "outputs": [
        {
          "output_type": "execute_result",
          "data": {
            "text/html": [
              "<div>\n",
              "<style scoped>\n",
              "    .dataframe tbody tr th:only-of-type {\n",
              "        vertical-align: middle;\n",
              "    }\n",
              "\n",
              "    .dataframe tbody tr th {\n",
              "        vertical-align: top;\n",
              "    }\n",
              "\n",
              "    .dataframe thead th {\n",
              "        text-align: right;\n",
              "    }\n",
              "</style>\n",
              "<table border=\"1\" class=\"dataframe\">\n",
              "  <thead>\n",
              "    <tr style=\"text-align: right;\">\n",
              "      <th></th>\n",
              "      <th>day</th>\n",
              "      <th>price</th>\n",
              "    </tr>\n",
              "  </thead>\n",
              "  <tbody>\n",
              "    <tr>\n",
              "      <th>361</th>\n",
              "      <td>2021-12-05</td>\n",
              "      <td>49253.86</td>\n",
              "    </tr>\n",
              "    <tr>\n",
              "      <th>362</th>\n",
              "      <td>2021-12-06</td>\n",
              "      <td>49380.43</td>\n",
              "    </tr>\n",
              "    <tr>\n",
              "      <th>363</th>\n",
              "      <td>2021-12-07</td>\n",
              "      <td>50564.63</td>\n",
              "    </tr>\n",
              "    <tr>\n",
              "      <th>364</th>\n",
              "      <td>2021-12-08</td>\n",
              "      <td>50645.41</td>\n",
              "    </tr>\n",
              "    <tr>\n",
              "      <th>365</th>\n",
              "      <td>2021-12-09</td>\n",
              "      <td>50511.12</td>\n",
              "    </tr>\n",
              "  </tbody>\n",
              "</table>\n",
              "</div>"
            ],
            "text/plain": [
              "            day     price\n",
              "361  2021-12-05  49253.86\n",
              "362  2021-12-06  49380.43\n",
              "363  2021-12-07  50564.63\n",
              "364  2021-12-08  50645.41\n",
              "365  2021-12-09  50511.12"
            ]
          },
          "metadata": {},
          "execution_count": 28
        }
      ]
    },
    {
      "cell_type": "code",
      "source": [
        "pred_y = forcast_data[0]\n",
        "pred_y"
      ],
      "metadata": {
        "colab": {
          "base_uri": "https://localhost:8080/"
        },
        "id": "vmKBIOHiJ8ao",
        "outputId": "d3227c4f-4a31-4cb1-ddc1-e140584ae591"
      },
      "execution_count": 29,
      "outputs": [
        {
          "output_type": "execute_result",
          "data": {
            "text/plain": [
              "array([53878.45857826, 53927.91598273, 53918.79329405, 53964.57835171,\n",
              "       54116.09218292])"
            ]
          },
          "metadata": {},
          "execution_count": 29
        }
      ]
    },
    {
      "cell_type": "markdown",
      "source": [
        "## 그래프를 만들어 보자"
      ],
      "metadata": {
        "id": "PVubp6uULilz"
      }
    },
    {
      "cell_type": "code",
      "source": [
        "pred_y = pred_y.tolist()  #list로 변경해주기\n",
        "pred_y"
      ],
      "metadata": {
        "colab": {
          "base_uri": "https://localhost:8080/"
        },
        "id": "_kk2lBIkKGpv",
        "outputId": "c313b9d1-eb59-4714-d3f5-7686e801a356"
      },
      "execution_count": 31,
      "outputs": [
        {
          "output_type": "execute_result",
          "data": {
            "text/plain": [
              "[53878.45857826177,\n",
              " 53927.9159827253,\n",
              " 53918.79329405307,\n",
              " 53964.57835170847,\n",
              " 54116.09218292492]"
            ]
          },
          "metadata": {},
          "execution_count": 31
        }
      ]
    },
    {
      "cell_type": "code",
      "source": [
        "bitcoin_test_df.price"
      ],
      "metadata": {
        "colab": {
          "base_uri": "https://localhost:8080/"
        },
        "id": "fukOnhgvKmHa",
        "outputId": "575d1e97-99d7-4f74-f370-5e22e55fb712"
      },
      "execution_count": 32,
      "outputs": [
        {
          "output_type": "execute_result",
          "data": {
            "text/plain": [
              "361    49253.86\n",
              "362    49380.43\n",
              "363    50564.63\n",
              "364    50645.41\n",
              "365    50511.12\n",
              "Name: price, dtype: float64"
            ]
          },
          "metadata": {},
          "execution_count": 32
        }
      ]
    },
    {
      "cell_type": "code",
      "source": [
        "bitcoin_test_df.price.values"
      ],
      "metadata": {
        "colab": {
          "base_uri": "https://localhost:8080/"
        },
        "id": "Jc5w8uDLKmQy",
        "outputId": "586473ab-c8f1-41d6-c6eb-0624b20de744"
      },
      "execution_count": 33,
      "outputs": [
        {
          "output_type": "execute_result",
          "data": {
            "text/plain": [
              "array([49253.86, 49380.43, 50564.63, 50645.41, 50511.12])"
            ]
          },
          "metadata": {},
          "execution_count": 33
        }
      ]
    },
    {
      "cell_type": "code",
      "source": [
        "test_y = bitcoin_test_df.price.values\n",
        "test_y"
      ],
      "metadata": {
        "colab": {
          "base_uri": "https://localhost:8080/"
        },
        "id": "-zmJgakBKvbW",
        "outputId": "93faf3e2-92f3-43e3-eb59-1f3bd7c09847"
      },
      "execution_count": 34,
      "outputs": [
        {
          "output_type": "execute_result",
          "data": {
            "text/plain": [
              "array([49253.86, 49380.43, 50564.63, 50645.41, 50511.12])"
            ]
          },
          "metadata": {},
          "execution_count": 34
        }
      ]
    },
    {
      "cell_type": "code",
      "source": [
        "type(test_y)"
      ],
      "metadata": {
        "colab": {
          "base_uri": "https://localhost:8080/"
        },
        "id": "QDHTCfOYKve0",
        "outputId": "ff96f4d5-7942-4e72-e221-591536def012"
      },
      "execution_count": 37,
      "outputs": [
        {
          "output_type": "execute_result",
          "data": {
            "text/plain": [
              "list"
            ]
          },
          "metadata": {},
          "execution_count": 37
        }
      ]
    },
    {
      "cell_type": "code",
      "source": [
        "# 모델이 예측한 가격 그래프\n",
        "plt.plot(pred_y, color = 'gold')\n",
        "\n",
        "# 실제 가격 그래프\n",
        "plt.plot(test_y, color = 'green')"
      ],
      "metadata": {
        "colab": {
          "base_uri": "https://localhost:8080/",
          "height": 283
        },
        "id": "Fi6Gpng1KviF",
        "outputId": "88e1066c-df65-440a-a01a-83e58143f9e4"
      },
      "execution_count": 48,
      "outputs": [
        {
          "output_type": "execute_result",
          "data": {
            "text/plain": [
              "[<matplotlib.lines.Line2D at 0x7f6ea52357d0>]"
            ]
          },
          "metadata": {},
          "execution_count": 48
        },
        {
          "output_type": "display_data",
          "data": {
            "image/png": "[encoded data removed]",
            "text/plain": [
              "<Figure size 432x288 with 1 Axes>"
            ]
          },
          "metadata": {
            "needs_background": "light"
          }
        }
      ]
    },
    {
      "cell_type": "code",
      "source": [
        "forcast_data[2]  \n",
        "\n",
        "# 1. 최저[0], 최고[1] => 그래프로!\n",
        "# 2. dataset의 양을 3년 이상으로 늘려보자.  "
      ],
      "metadata": {
        "colab": {
          "base_uri": "https://localhost:8080/"
        },
        "id": "sVYvNOdsL_BV",
        "outputId": "c9383818-39dc-44c0-885e-954f46f361b8"
      },
      "execution_count": 49,
      "outputs": [
        {
          "output_type": "execute_result",
          "data": {
            "text/plain": [
              "array([[50188.55108791, 57568.36606861],\n",
              "       [48809.87568149, 59045.95628396],\n",
              "       [47679.58712403, 60157.99946408],\n",
              "       [46698.74461369, 61230.41208973],\n",
              "       [45895.36115573, 62336.82321012]])"
            ]
          },
          "metadata": {},
          "execution_count": 49
        }
      ]
    },
    {
      "cell_type": "code",
      "source": [
        "# 마지막 5일의 예측 데이터 최소값\n",
        "pred_y_lower = []\n",
        "# 마지막 5일의 예측 데이터 최대값\n",
        "pred_y_upper = []\n",
        "\n",
        "for lower_upper in forcast_data[2]:\n",
        "    lower = lower_upper[0]\n",
        "    upper = lower_upper[1]\n",
        "    pred_y_lower.append(lower)\n",
        "    pred_y_upper.append(upper)"
      ],
      "metadata": {
        "id": "Xyjdo_1tLzyT"
      },
      "execution_count": 50,
      "outputs": []
    },
    {
      "cell_type": "code",
      "source": [
        "# 모델이 예측한 가격 그래프\n",
        "plt.plot(pred_y, color = 'gold')\n",
        "\n",
        "# 모델이 예측한 최저 가격 그래프\n",
        "plt.plot(pred_y_lower, color = 'red')\n",
        "\n",
        "# 모델이 예측한 최고 가격 그래프\n",
        "plt.plot(pred_y_upper, color = 'blue')\n",
        "\n",
        "# 실제 가격 그래프\n",
        "plt.plot(test_y, color = 'green')"
      ],
      "metadata": {
        "colab": {
          "base_uri": "https://localhost:8080/",
          "height": 283
        },
        "id": "jDzxsNQtKvlu",
        "outputId": "f893aaff-72dd-4971-d092-c5ec2cc9baa3"
      },
      "execution_count": 51,
      "outputs": [
        {
          "output_type": "execute_result",
          "data": {
            "text/plain": [
              "[<matplotlib.lines.Line2D at 0x7f6ea51b0710>]"
            ]
          },
          "metadata": {},
          "execution_count": 51
        },
        {
          "output_type": "display_data",
          "data": {
            "image/png": "[encoded data removed]",
            "text/plain": [
              "<Figure size 432x288 with 1 Axes>"
            ]
          },
          "metadata": {
            "needs_background": "light"
          }
        }
      ]
    },
    {
      "cell_type": "code",
      "source": [
        "### Additive 모델 = ARIMA + 기간의 trend(경향성) : facebook(fb)"
      ],
      "metadata": {
        "id": "gcq5mj7B8K0z"
      },
      "execution_count": 3,
      "outputs": []
    },
    {
      "cell_type": "code",
      "source": [
        "from fbprophet import Prophet"
      ],
      "metadata": {
        "id": "SBsNApjK8Qa8"
      },
      "execution_count": 52,
      "outputs": []
    },
    {
      "cell_type": "code",
      "source": [
        "bitcoin_df2 = pd.read_csv(file_path, names = ['ds', 'y'])\n",
        "bitcoin_df2"
      ],
      "metadata": {
        "colab": {
          "base_uri": "https://localhost:8080/",
          "height": 424
        },
        "id": "QZdBtU0l8QeX",
        "outputId": "ef65b4c2-f614-4e0b-a6db-17b0fbdc4f1b"
      },
      "execution_count": 53,
      "outputs": [
        {
          "output_type": "execute_result",
          "data": {
            "text/html": [
              "<div>\n",
              "<style scoped>\n",
              "    .dataframe tbody tr th:only-of-type {\n",
              "        vertical-align: middle;\n",
              "    }\n",
              "\n",
              "    .dataframe tbody tr th {\n",
              "        vertical-align: top;\n",
              "    }\n",
              "\n",
              "    .dataframe thead th {\n",
              "        text-align: right;\n",
              "    }\n",
              "</style>\n",
              "<table border=\"1\" class=\"dataframe\">\n",
              "  <thead>\n",
              "    <tr style=\"text-align: right;\">\n",
              "      <th></th>\n",
              "      <th>ds</th>\n",
              "      <th>y</th>\n",
              "    </tr>\n",
              "  </thead>\n",
              "  <tbody>\n",
              "    <tr>\n",
              "      <th>0</th>\n",
              "      <td>2020-12-09</td>\n",
              "      <td>18318.87</td>\n",
              "    </tr>\n",
              "    <tr>\n",
              "      <th>1</th>\n",
              "      <td>2020-12-10</td>\n",
              "      <td>18554.15</td>\n",
              "    </tr>\n",
              "    <tr>\n",
              "      <th>2</th>\n",
              "      <td>2020-12-11</td>\n",
              "      <td>18247.76</td>\n",
              "    </tr>\n",
              "    <tr>\n",
              "      <th>3</th>\n",
              "      <td>2020-12-12</td>\n",
              "      <td>18029.36</td>\n",
              "    </tr>\n",
              "    <tr>\n",
              "      <th>4</th>\n",
              "      <td>2020-12-13</td>\n",
              "      <td>18803.44</td>\n",
              "    </tr>\n",
              "    <tr>\n",
              "      <th>...</th>\n",
              "      <td>...</td>\n",
              "      <td>...</td>\n",
              "    </tr>\n",
              "    <tr>\n",
              "      <th>361</th>\n",
              "      <td>2021-12-05</td>\n",
              "      <td>49253.86</td>\n",
              "    </tr>\n",
              "    <tr>\n",
              "      <th>362</th>\n",
              "      <td>2021-12-06</td>\n",
              "      <td>49380.43</td>\n",
              "    </tr>\n",
              "    <tr>\n",
              "      <th>363</th>\n",
              "      <td>2021-12-07</td>\n",
              "      <td>50564.63</td>\n",
              "    </tr>\n",
              "    <tr>\n",
              "      <th>364</th>\n",
              "      <td>2021-12-08</td>\n",
              "      <td>50645.41</td>\n",
              "    </tr>\n",
              "    <tr>\n",
              "      <th>365</th>\n",
              "      <td>2021-12-09</td>\n",
              "      <td>50511.12</td>\n",
              "    </tr>\n",
              "  </tbody>\n",
              "</table>\n",
              "<p>366 rows × 2 columns</p>\n",
              "</div>"
            ],
            "text/plain": [
              "             ds         y\n",
              "0    2020-12-09  18318.87\n",
              "1    2020-12-10  18554.15\n",
              "2    2020-12-11  18247.76\n",
              "3    2020-12-12  18029.36\n",
              "4    2020-12-13  18803.44\n",
              "..          ...       ...\n",
              "361  2021-12-05  49253.86\n",
              "362  2021-12-06  49380.43\n",
              "363  2021-12-07  50564.63\n",
              "364  2021-12-08  50645.41\n",
              "365  2021-12-09  50511.12\n",
              "\n",
              "[366 rows x 2 columns]"
            ]
          },
          "metadata": {},
          "execution_count": 53
        }
      ]
    },
    {
      "cell_type": "code",
      "source": [
        "prophet = Prophet(seasonality_mode = 'multiplicative',\n",
        "                 yearly_seasonality=True, \n",
        "                 weekly_seasonality=True,\n",
        "                 daily_seasonality=True,\n",
        "                 changepoint_prior_scale=0.5)"
      ],
      "metadata": {
        "id": "FyBiypfG8Qig"
      },
      "execution_count": 54,
      "outputs": []
    },
    {
      "cell_type": "code",
      "source": [
        "prophet.fit(bitcoin_df2)"
      ],
      "metadata": {
        "colab": {
          "base_uri": "https://localhost:8080/"
        },
        "id": "_qwlmdTucpU4",
        "outputId": "2056c87f-a1db-498c-c98a-04e9b37e0b23"
      },
      "execution_count": 55,
      "outputs": [
        {
          "output_type": "execute_result",
          "data": {
            "text/plain": [
              "<fbprophet.forecaster.Prophet at 0x7f6ea3b42750>"
            ]
          },
          "metadata": {},
          "execution_count": 55
        }
      ]
    },
    {
      "cell_type": "code",
      "source": [
        "future_data = prophet.make_future_dataframe(periods=5, freq='d')\n",
        "forcast_data = prophet.predict(future_data)\n",
        "forcast_data"
      ],
      "metadata": {
        "colab": {
          "base_uri": "https://localhost:8080/",
          "height": 617
        },
        "id": "8vHIAUnzdDhJ",
        "outputId": "6c80a6c2-c643-4c0d-8d0b-5ae041bc5398"
      },
      "execution_count": 56,
      "outputs": [
        {
          "output_type": "execute_result",
          "data": {
            "text/html": [
              "<div>\n",
              "<style scoped>\n",
              "    .dataframe tbody tr th:only-of-type {\n",
              "        vertical-align: middle;\n",
              "    }\n",
              "\n",
              "    .dataframe tbody tr th {\n",
              "        vertical-align: top;\n",
              "    }\n",
              "\n",
              "    .dataframe thead th {\n",
              "        text-align: right;\n",
              "    }\n",
              "</style>\n",
              "<table border=\"1\" class=\"dataframe\">\n",
              "  <thead>\n",
              "    <tr style=\"text-align: right;\">\n",
              "      <th></th>\n",
              "      <th>ds</th>\n",
              "      <th>trend</th>\n",
              "      <th>yhat_lower</th>\n",
              "      <th>yhat_upper</th>\n",
              "      <th>trend_lower</th>\n",
              "      <th>trend_upper</th>\n",
              "      <th>daily</th>\n",
              "      <th>daily_lower</th>\n",
              "      <th>daily_upper</th>\n",
              "      <th>multiplicative_terms</th>\n",
              "      <th>multiplicative_terms_lower</th>\n",
              "      <th>multiplicative_terms_upper</th>\n",
              "      <th>weekly</th>\n",
              "      <th>weekly_lower</th>\n",
              "      <th>weekly_upper</th>\n",
              "      <th>yearly</th>\n",
              "      <th>yearly_lower</th>\n",
              "      <th>yearly_upper</th>\n",
              "      <th>additive_terms</th>\n",
              "      <th>additive_terms_lower</th>\n",
              "      <th>additive_terms_upper</th>\n",
              "      <th>yhat</th>\n",
              "    </tr>\n",
              "  </thead>\n",
              "  <tbody>\n",
              "    <tr>\n",
              "      <th>0</th>\n",
              "      <td>2020-12-09</td>\n",
              "      <td>2224.520601</td>\n",
              "      <td>16158.428281</td>\n",
              "      <td>20571.276925</td>\n",
              "      <td>2224.520601</td>\n",
              "      <td>2224.520601</td>\n",
              "      <td>10.589405</td>\n",
              "      <td>10.589405</td>\n",
              "      <td>10.589405</td>\n",
              "      <td>7.270101</td>\n",
              "      <td>7.270101</td>\n",
              "      <td>7.270101</td>\n",
              "      <td>-0.042453</td>\n",
              "      <td>-0.042453</td>\n",
              "      <td>-0.042453</td>\n",
              "      <td>-3.276850</td>\n",
              "      <td>-3.276850</td>\n",
              "      <td>-3.276850</td>\n",
              "      <td>0.0</td>\n",
              "      <td>0.0</td>\n",
              "      <td>0.0</td>\n",
              "      <td>18397.010913</td>\n",
              "    </tr>\n",
              "    <tr>\n",
              "      <th>1</th>\n",
              "      <td>2020-12-10</td>\n",
              "      <td>2245.025866</td>\n",
              "      <td>16423.963552</td>\n",
              "      <td>20658.056230</td>\n",
              "      <td>2245.025866</td>\n",
              "      <td>2245.025866</td>\n",
              "      <td>10.589405</td>\n",
              "      <td>10.589405</td>\n",
              "      <td>10.589405</td>\n",
              "      <td>7.273211</td>\n",
              "      <td>7.273211</td>\n",
              "      <td>7.273211</td>\n",
              "      <td>0.017467</td>\n",
              "      <td>0.017467</td>\n",
              "      <td>0.017467</td>\n",
              "      <td>-3.333660</td>\n",
              "      <td>-3.333660</td>\n",
              "      <td>-3.333660</td>\n",
              "      <td>0.0</td>\n",
              "      <td>0.0</td>\n",
              "      <td>0.0</td>\n",
              "      <td>18573.573214</td>\n",
              "    </tr>\n",
              "    <tr>\n",
              "      <th>2</th>\n",
              "      <td>2020-12-11</td>\n",
              "      <td>2265.531130</td>\n",
              "      <td>16293.188747</td>\n",
              "      <td>20711.925335</td>\n",
              "      <td>2265.531130</td>\n",
              "      <td>2265.531130</td>\n",
              "      <td>10.589405</td>\n",
              "      <td>10.589405</td>\n",
              "      <td>10.589405</td>\n",
              "      <td>7.177258</td>\n",
              "      <td>7.177258</td>\n",
              "      <td>7.177258</td>\n",
              "      <td>-0.044290</td>\n",
              "      <td>-0.044290</td>\n",
              "      <td>-0.044290</td>\n",
              "      <td>-3.367857</td>\n",
              "      <td>-3.367857</td>\n",
              "      <td>-3.367857</td>\n",
              "      <td>0.0</td>\n",
              "      <td>0.0</td>\n",
              "      <td>0.0</td>\n",
              "      <td>18525.832046</td>\n",
              "    </tr>\n",
              "    <tr>\n",
              "      <th>3</th>\n",
              "      <td>2020-12-12</td>\n",
              "      <td>2286.036394</td>\n",
              "      <td>16691.332840</td>\n",
              "      <td>21098.923813</td>\n",
              "      <td>2286.036394</td>\n",
              "      <td>2286.036394</td>\n",
              "      <td>10.589405</td>\n",
              "      <td>10.589405</td>\n",
              "      <td>10.589405</td>\n",
              "      <td>7.232412</td>\n",
              "      <td>7.232412</td>\n",
              "      <td>7.232412</td>\n",
              "      <td>0.021332</td>\n",
              "      <td>0.021332</td>\n",
              "      <td>0.021332</td>\n",
              "      <td>-3.378325</td>\n",
              "      <td>-3.378325</td>\n",
              "      <td>-3.378325</td>\n",
              "      <td>0.0</td>\n",
              "      <td>0.0</td>\n",
              "      <td>0.0</td>\n",
              "      <td>18819.592860</td>\n",
              "    </tr>\n",
              "    <tr>\n",
              "      <th>4</th>\n",
              "      <td>2020-12-13</td>\n",
              "      <td>2306.541659</td>\n",
              "      <td>16767.805036</td>\n",
              "      <td>21336.815247</td>\n",
              "      <td>2306.541659</td>\n",
              "      <td>2306.541659</td>\n",
              "      <td>10.589405</td>\n",
              "      <td>10.589405</td>\n",
              "      <td>10.589405</td>\n",
              "      <td>7.243287</td>\n",
              "      <td>7.243287</td>\n",
              "      <td>7.243287</td>\n",
              "      <td>0.018141</td>\n",
              "      <td>0.018141</td>\n",
              "      <td>0.018141</td>\n",
              "      <td>-3.364259</td>\n",
              "      <td>-3.364259</td>\n",
              "      <td>-3.364259</td>\n",
              "      <td>0.0</td>\n",
              "      <td>0.0</td>\n",
              "      <td>0.0</td>\n",
              "      <td>19013.485085</td>\n",
              "    </tr>\n",
              "    <tr>\n",
              "      <th>...</th>\n",
              "      <td>...</td>\n",
              "      <td>...</td>\n",
              "      <td>...</td>\n",
              "      <td>...</td>\n",
              "      <td>...</td>\n",
              "      <td>...</td>\n",
              "      <td>...</td>\n",
              "      <td>...</td>\n",
              "      <td>...</td>\n",
              "      <td>...</td>\n",
              "      <td>...</td>\n",
              "      <td>...</td>\n",
              "      <td>...</td>\n",
              "      <td>...</td>\n",
              "      <td>...</td>\n",
              "      <td>...</td>\n",
              "      <td>...</td>\n",
              "      <td>...</td>\n",
              "      <td>...</td>\n",
              "      <td>...</td>\n",
              "      <td>...</td>\n",
              "      <td>...</td>\n",
              "    </tr>\n",
              "    <tr>\n",
              "      <th>366</th>\n",
              "      <td>2021-12-10</td>\n",
              "      <td>6142.437574</td>\n",
              "      <td>48204.835648</td>\n",
              "      <td>52711.765037</td>\n",
              "      <td>6142.437574</td>\n",
              "      <td>6142.437574</td>\n",
              "      <td>10.589405</td>\n",
              "      <td>10.589405</td>\n",
              "      <td>10.589405</td>\n",
              "      <td>7.223587</td>\n",
              "      <td>7.223587</td>\n",
              "      <td>7.223587</td>\n",
              "      <td>-0.044290</td>\n",
              "      <td>-0.044290</td>\n",
              "      <td>-0.044290</td>\n",
              "      <td>-3.321528</td>\n",
              "      <td>-3.321528</td>\n",
              "      <td>-3.321528</td>\n",
              "      <td>0.0</td>\n",
              "      <td>0.0</td>\n",
              "      <td>0.0</td>\n",
              "      <td>50512.869646</td>\n",
              "    </tr>\n",
              "    <tr>\n",
              "      <th>367</th>\n",
              "      <td>2021-12-11</td>\n",
              "      <td>6183.302817</td>\n",
              "      <td>48817.718770</td>\n",
              "      <td>53332.850243</td>\n",
              "      <td>6183.302817</td>\n",
              "      <td>6183.302817</td>\n",
              "      <td>10.589405</td>\n",
              "      <td>10.589405</td>\n",
              "      <td>10.589405</td>\n",
              "      <td>7.249243</td>\n",
              "      <td>7.249243</td>\n",
              "      <td>7.249243</td>\n",
              "      <td>0.021332</td>\n",
              "      <td>0.021332</td>\n",
              "      <td>0.021332</td>\n",
              "      <td>-3.361494</td>\n",
              "      <td>-3.361494</td>\n",
              "      <td>-3.361494</td>\n",
              "      <td>0.0</td>\n",
              "      <td>0.0</td>\n",
              "      <td>0.0</td>\n",
              "      <td>51007.566222</td>\n",
              "    </tr>\n",
              "    <tr>\n",
              "      <th>368</th>\n",
              "      <td>2021-12-12</td>\n",
              "      <td>6224.168061</td>\n",
              "      <td>48814.985935</td>\n",
              "      <td>53489.985789</td>\n",
              "      <td>6223.479219</td>\n",
              "      <td>6224.168061</td>\n",
              "      <td>10.589405</td>\n",
              "      <td>10.589405</td>\n",
              "      <td>10.589405</td>\n",
              "      <td>7.229564</td>\n",
              "      <td>7.229564</td>\n",
              "      <td>7.229564</td>\n",
              "      <td>0.018141</td>\n",
              "      <td>0.018141</td>\n",
              "      <td>0.018141</td>\n",
              "      <td>-3.377982</td>\n",
              "      <td>-3.377982</td>\n",
              "      <td>-3.377982</td>\n",
              "      <td>0.0</td>\n",
              "      <td>0.0</td>\n",
              "      <td>0.0</td>\n",
              "      <td>51222.189345</td>\n",
              "    </tr>\n",
              "    <tr>\n",
              "      <th>369</th>\n",
              "      <td>2021-12-13</td>\n",
              "      <td>6265.033305</td>\n",
              "      <td>49098.531552</td>\n",
              "      <td>53942.046211</td>\n",
              "      <td>6232.292414</td>\n",
              "      <td>6276.271070</td>\n",
              "      <td>10.589405</td>\n",
              "      <td>10.589405</td>\n",
              "      <td>10.589405</td>\n",
              "      <td>7.229249</td>\n",
              "      <td>7.229249</td>\n",
              "      <td>7.229249</td>\n",
              "      <td>0.009951</td>\n",
              "      <td>0.009951</td>\n",
              "      <td>0.009951</td>\n",
              "      <td>-3.370107</td>\n",
              "      <td>-3.370107</td>\n",
              "      <td>-3.370107</td>\n",
              "      <td>0.0</td>\n",
              "      <td>0.0</td>\n",
              "      <td>0.0</td>\n",
              "      <td>51556.521793</td>\n",
              "    </tr>\n",
              "    <tr>\n",
              "      <th>370</th>\n",
              "      <td>2021-12-14</td>\n",
              "      <td>6305.898548</td>\n",
              "      <td>49561.391620</td>\n",
              "      <td>54608.863835</td>\n",
              "      <td>6231.571200</td>\n",
              "      <td>6347.970843</td>\n",
              "      <td>10.589405</td>\n",
              "      <td>10.589405</td>\n",
              "      <td>10.589405</td>\n",
              "      <td>7.271935</td>\n",
              "      <td>7.271935</td>\n",
              "      <td>7.271935</td>\n",
              "      <td>0.019852</td>\n",
              "      <td>0.019852</td>\n",
              "      <td>0.019852</td>\n",
              "      <td>-3.337321</td>\n",
              "      <td>-3.337321</td>\n",
              "      <td>-3.337321</td>\n",
              "      <td>0.0</td>\n",
              "      <td>0.0</td>\n",
              "      <td>0.0</td>\n",
              "      <td>52161.984803</td>\n",
              "    </tr>\n",
              "  </tbody>\n",
              "</table>\n",
              "<p>371 rows × 22 columns</p>\n",
              "</div>"
            ],
            "text/plain": [
              "            ds        trend  ...  additive_terms_upper          yhat\n",
              "0   2020-12-09  2224.520601  ...                   0.0  18397.010913\n",
              "1   2020-12-10  2245.025866  ...                   0.0  18573.573214\n",
              "2   2020-12-11  2265.531130  ...                   0.0  18525.832046\n",
              "3   2020-12-12  2286.036394  ...                   0.0  18819.592860\n",
              "4   2020-12-13  2306.541659  ...                   0.0  19013.485085\n",
              "..         ...          ...  ...                   ...           ...\n",
              "366 2021-12-10  6142.437574  ...                   0.0  50512.869646\n",
              "367 2021-12-11  6183.302817  ...                   0.0  51007.566222\n",
              "368 2021-12-12  6224.168061  ...                   0.0  51222.189345\n",
              "369 2021-12-13  6265.033305  ...                   0.0  51556.521793\n",
              "370 2021-12-14  6305.898548  ...                   0.0  52161.984803\n",
              "\n",
              "[371 rows x 22 columns]"
            ]
          },
          "metadata": {},
          "execution_count": 56
        }
      ]
    },
    {
      "cell_type": "code",
      "source": [
        "forcast_data[['ds', 'yhat', 'yhat_lower', 'yhat_upper']].tail(5)"
      ],
      "metadata": {
        "colab": {
          "base_uri": "https://localhost:8080/",
          "height": 206
        },
        "id": "BeAAXtJkdSY5",
        "outputId": "b3f50da7-254b-4895-cf33-68ba0acd9a46"
      },
      "execution_count": 57,
      "outputs": [
        {
          "output_type": "execute_result",
          "data": {
            "text/html": [
              "<div>\n",
              "<style scoped>\n",
              "    .dataframe tbody tr th:only-of-type {\n",
              "        vertical-align: middle;\n",
              "    }\n",
              "\n",
              "    .dataframe tbody tr th {\n",
              "        vertical-align: top;\n",
              "    }\n",
              "\n",
              "    .dataframe thead th {\n",
              "        text-align: right;\n",
              "    }\n",
              "</style>\n",
              "<table border=\"1\" class=\"dataframe\">\n",
              "  <thead>\n",
              "    <tr style=\"text-align: right;\">\n",
              "      <th></th>\n",
              "      <th>ds</th>\n",
              "      <th>yhat</th>\n",
              "      <th>yhat_lower</th>\n",
              "      <th>yhat_upper</th>\n",
              "    </tr>\n",
              "  </thead>\n",
              "  <tbody>\n",
              "    <tr>\n",
              "      <th>366</th>\n",
              "      <td>2021-12-10</td>\n",
              "      <td>50512.869646</td>\n",
              "      <td>48204.835648</td>\n",
              "      <td>52711.765037</td>\n",
              "    </tr>\n",
              "    <tr>\n",
              "      <th>367</th>\n",
              "      <td>2021-12-11</td>\n",
              "      <td>51007.566222</td>\n",
              "      <td>48817.718770</td>\n",
              "      <td>53332.850243</td>\n",
              "    </tr>\n",
              "    <tr>\n",
              "      <th>368</th>\n",
              "      <td>2021-12-12</td>\n",
              "      <td>51222.189345</td>\n",
              "      <td>48814.985935</td>\n",
              "      <td>53489.985789</td>\n",
              "    </tr>\n",
              "    <tr>\n",
              "      <th>369</th>\n",
              "      <td>2021-12-13</td>\n",
              "      <td>51556.521793</td>\n",
              "      <td>49098.531552</td>\n",
              "      <td>53942.046211</td>\n",
              "    </tr>\n",
              "    <tr>\n",
              "      <th>370</th>\n",
              "      <td>2021-12-14</td>\n",
              "      <td>52161.984803</td>\n",
              "      <td>49561.391620</td>\n",
              "      <td>54608.863835</td>\n",
              "    </tr>\n",
              "  </tbody>\n",
              "</table>\n",
              "</div>"
            ],
            "text/plain": [
              "            ds          yhat    yhat_lower    yhat_upper\n",
              "366 2021-12-10  50512.869646  48204.835648  52711.765037\n",
              "367 2021-12-11  51007.566222  48817.718770  53332.850243\n",
              "368 2021-12-12  51222.189345  48814.985935  53489.985789\n",
              "369 2021-12-13  51556.521793  49098.531552  53942.046211\n",
              "370 2021-12-14  52161.984803  49561.391620  54608.863835"
            ]
          },
          "metadata": {},
          "execution_count": 57
        }
      ]
    },
    {
      "cell_type": "code",
      "source": [
        "fig2 = prophet.plot_components(forcast_data)"
      ],
      "metadata": {
        "colab": {
          "base_uri": "https://localhost:8080/",
          "height": 873
        },
        "id": "LwCMdbi6dtyl",
        "outputId": "5ab93998-3ae9-44e8-8cd0-d67611abe36b"
      },
      "execution_count": 59,
      "outputs": [
        {
          "output_type": "display_data",
          "data": {
            "image/png": "[encoded data removed]",
            "text/plain": [
              "<Figure size 648x864 with 4 Axes>"
            ]
          },
          "metadata": {}
        }
      ]
    },
    {
      "cell_type": "code",
      "source": [
        ""
      ],
      "metadata": {
        "id": "gcK5x03feNYf"
      },
      "execution_count": null,
      "outputs": []
    }
  ]
}