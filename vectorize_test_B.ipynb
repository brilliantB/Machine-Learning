{
  "nbformat": 4,
  "nbformat_minor": 0,
  "metadata": {
    "colab": {
      "name": "vectorize_test_B.ipynb",
      "provenance": [],
      "collapsed_sections": []
    },
    "kernelspec": {
      "name": "python3",
      "display_name": "Python 3"
    },
    "language_info": {
      "name": "python"
    }
  },
  "cells": [
    {
      "cell_type": "markdown",
      "source": [
        "# NLP 자연어처리 : Vectorize "
      ],
      "metadata": {
        "id": "5SPOfvNjH7Vh"
      }
    },
    {
      "cell_type": "code",
      "execution_count": 52,
      "metadata": {
        "id": "oZVa6U9Nudct"
      },
      "outputs": [],
      "source": [
        "from sklearn.feature_extraction.text import TfidfVectorizer, CountVectorizer"
      ]
    },
    {
      "cell_type": "code",
      "source": [
        "corpus = [\n",
        "          'you know I want your love',\n",
        "          'I like you',\n",
        "          'what should I do',\n",
        "          'I hate you'\n",
        "]"
      ],
      "metadata": {
        "id": "ON4JbNc_xfkq"
      },
      "execution_count": 53,
      "outputs": []
    },
    {
      "cell_type": "code",
      "source": [
        "vector = CountVectorizer()\n",
        "print(vector.fit_transform(corpus).toarray()) # 빈도수 기록\n",
        "print(vector.vocabulary_)\n",
        "# {'you': 7, 'know': 1, 'want': 5, 'your': 8, 'love': 3, 'like': 2, 'what': 6, 'should': 4, 'do': 0}\n",
        "# value값은 인덱스 번호를 뜻한다 \n",
        "# ex) 0번 인덱스는 do , do가 있는곳에는 1로 표시"
      ],
      "metadata": {
        "colab": {
          "base_uri": "https://localhost:8080/"
        },
        "id": "rPZ2Fv2dxnka",
        "outputId": "ea84af7a-38fb-46d2-f582-8a70b0fceb3e"
      },
      "execution_count": 54,
      "outputs": [
        {
          "output_type": "stream",
          "name": "stdout",
          "text": [
            "[[0 0 1 0 1 0 1 0 1 1]\n",
            " [0 0 0 1 0 0 0 0 1 0]\n",
            " [1 0 0 0 0 1 0 1 0 0]\n",
            " [0 1 0 0 0 0 0 0 1 0]]\n",
            "{'you': 8, 'know': 2, 'want': 6, 'your': 9, 'love': 4, 'like': 3, 'what': 7, 'should': 5, 'do': 0, 'hate': 1}\n"
          ]
        }
      ]
    },
    {
      "cell_type": "code",
      "source": [
        "cv = CountVectorizer()"
      ],
      "metadata": {
        "id": "5GsUdrIPzf3S"
      },
      "execution_count": 55,
      "outputs": []
    },
    {
      "cell_type": "code",
      "source": [
        "# 1. 사전을 만들어라!! -> fit()\n",
        "# 2. 사전에 들어있는 id로 인코딩을 해라!! -> tranform()\n",
        "# 3. 1,2를 함께 처리하고자 하는 경우는 -> fit_transform()"
      ],
      "metadata": {
        "id": "h0bAlIIA0jhF"
      },
      "execution_count": 56,
      "outputs": []
    },
    {
      "cell_type": "code",
      "source": [
        "cv.fit_transform(corpus)"
      ],
      "metadata": {
        "colab": {
          "base_uri": "https://localhost:8080/"
        },
        "id": "6Lv05GBu0-iR",
        "outputId": "31c4be25-cf96-4ea1-fd11-54af568d5574"
      },
      "execution_count": 57,
      "outputs": [
        {
          "output_type": "execute_result",
          "data": {
            "text/plain": [
              "<4x10 sparse matrix of type '<class 'numpy.int64'>'\n",
              "\twith 12 stored elements in Compressed Sparse Row format>"
            ]
          },
          "metadata": {},
          "execution_count": 57
        }
      ]
    },
    {
      "cell_type": "code",
      "source": [
        "cv.fit_transform(corpus).toarray()"
      ],
      "metadata": {
        "colab": {
          "base_uri": "https://localhost:8080/"
        },
        "id": "t9VNseW61Ugy",
        "outputId": "97ccbb5b-6765-4824-bca4-b68c75fb8efc"
      },
      "execution_count": 58,
      "outputs": [
        {
          "output_type": "execute_result",
          "data": {
            "text/plain": [
              "array([[0, 0, 1, 0, 1, 0, 1, 0, 1, 1],\n",
              "       [0, 0, 0, 1, 0, 0, 0, 0, 1, 0],\n",
              "       [1, 0, 0, 0, 0, 1, 0, 1, 0, 0],\n",
              "       [0, 1, 0, 0, 0, 0, 0, 0, 1, 0]])"
            ]
          },
          "metadata": {},
          "execution_count": 58
        }
      ]
    },
    {
      "cell_type": "code",
      "source": [
        "cv.vocabulary_"
      ],
      "metadata": {
        "colab": {
          "base_uri": "https://localhost:8080/"
        },
        "id": "3GdcME8x1ebm",
        "outputId": "6eb06ab7-91c2-4297-96d2-a3b9aad756f7"
      },
      "execution_count": 60,
      "outputs": [
        {
          "output_type": "execute_result",
          "data": {
            "text/plain": [
              "{'do': 0,\n",
              " 'hate': 1,\n",
              " 'know': 2,\n",
              " 'like': 3,\n",
              " 'love': 4,\n",
              " 'should': 5,\n",
              " 'want': 6,\n",
              " 'what': 7,\n",
              " 'you': 8,\n",
              " 'your': 9}"
            ]
          },
          "metadata": {},
          "execution_count": 60
        }
      ]
    },
    {
      "cell_type": "code",
      "source": [
        "tfidf = TfidfVectorizer()"
      ],
      "metadata": {
        "id": "PJPMW73A0ZzU"
      },
      "execution_count": 61,
      "outputs": []
    },
    {
      "cell_type": "code",
      "source": [
        "# fit --> transform"
      ],
      "metadata": {
        "id": "-9D8q3Jv0jLD"
      },
      "execution_count": 62,
      "outputs": []
    },
    {
      "cell_type": "code",
      "source": [
        "tfidf.fit_transform(corpus)"
      ],
      "metadata": {
        "colab": {
          "base_uri": "https://localhost:8080/"
        },
        "id": "uYmW2Cm82A_8",
        "outputId": "26d6953b-2d51-432f-f72d-523e347d1ddd"
      },
      "execution_count": 63,
      "outputs": [
        {
          "output_type": "execute_result",
          "data": {
            "text/plain": [
              "<4x10 sparse matrix of type '<class 'numpy.float64'>'\n",
              "\twith 12 stored elements in Compressed Sparse Row format>"
            ]
          },
          "metadata": {},
          "execution_count": 63
        }
      ]
    },
    {
      "cell_type": "code",
      "source": [
        "tfidf.fit_transform(corpus).toarray()"
      ],
      "metadata": {
        "colab": {
          "base_uri": "https://localhost:8080/"
        },
        "id": "neqPQUHZ2H7W",
        "outputId": "9d399c0c-26ae-4f3d-87b2-7c409cf81cba"
      },
      "execution_count": 64,
      "outputs": [
        {
          "output_type": "execute_result",
          "data": {
            "text/plain": [
              "array([[0.        , 0.        , 0.47633035, 0.        , 0.47633035,\n",
              "        0.        , 0.47633035, 0.        , 0.30403549, 0.47633035],\n",
              "       [0.        , 0.        , 0.        , 0.84292635, 0.        ,\n",
              "        0.        , 0.        , 0.        , 0.53802897, 0.        ],\n",
              "       [0.57735027, 0.        , 0.        , 0.        , 0.        ,\n",
              "        0.57735027, 0.        , 0.57735027, 0.        , 0.        ],\n",
              "       [0.        , 0.84292635, 0.        , 0.        , 0.        ,\n",
              "        0.        , 0.        , 0.        , 0.53802897, 0.        ]])"
            ]
          },
          "metadata": {},
          "execution_count": 64
        }
      ]
    },
    {
      "cell_type": "code",
      "source": [
        "print(tfidf.vocabulary_)"
      ],
      "metadata": {
        "colab": {
          "base_uri": "https://localhost:8080/"
        },
        "id": "8rOlzcwm2LWf",
        "outputId": "5946ee80-5e41-4436-b130-ccdd7c18c58b"
      },
      "execution_count": 65,
      "outputs": [
        {
          "output_type": "stream",
          "name": "stdout",
          "text": [
            "{'you': 8, 'know': 2, 'want': 6, 'your': 9, 'love': 4, 'like': 3, 'what': 7, 'should': 5, 'do': 0, 'hate': 1}\n"
          ]
        }
      ]
    },
    {
      "cell_type": "code",
      "source": [
        "sentence = ['i like like like hate smile']"
      ],
      "metadata": {
        "id": "lp5gw0Ed2Px0"
      },
      "execution_count": 66,
      "outputs": []
    },
    {
      "cell_type": "code",
      "source": [
        "nd2array = cv.transform(sentence).toarray()\n",
        "nd2array"
      ],
      "metadata": {
        "colab": {
          "base_uri": "https://localhost:8080/"
        },
        "id": "wO0Uz0Kv3KeA",
        "outputId": "9bed51e4-ea25-48c8-b959-a0037f642310"
      },
      "execution_count": 68,
      "outputs": [
        {
          "output_type": "execute_result",
          "data": {
            "text/plain": [
              "array([[0, 1, 0, 3, 0, 0, 0, 0, 0, 0]])"
            ]
          },
          "metadata": {},
          "execution_count": 68
        }
      ]
    },
    {
      "cell_type": "code",
      "source": [
        "nd2array[0]"
      ],
      "metadata": {
        "colab": {
          "base_uri": "https://localhost:8080/"
        },
        "id": "XNM-wBy53Psb",
        "outputId": "c4632b22-6965-47ff-ad1b-67b1fb2dd74c"
      },
      "execution_count": 69,
      "outputs": [
        {
          "output_type": "execute_result",
          "data": {
            "text/plain": [
              "array([0, 1, 0, 3, 0, 0, 0, 0, 0, 0])"
            ]
          },
          "metadata": {},
          "execution_count": 69
        }
      ]
    },
    {
      "cell_type": "code",
      "source": [
        "nd2array = tfidf.transform(sentence).toarray()\n",
        "nd2array"
      ],
      "metadata": {
        "colab": {
          "base_uri": "https://localhost:8080/"
        },
        "id": "Vx3Inlcz3fz3",
        "outputId": "a981d0e5-622b-47e6-e079-4299cf4d9c04"
      },
      "execution_count": 70,
      "outputs": [
        {
          "output_type": "execute_result",
          "data": {
            "text/plain": [
              "array([[0.        , 0.31622777, 0.        , 0.9486833 , 0.        ,\n",
              "        0.        , 0.        , 0.        , 0.        , 0.        ]])"
            ]
          },
          "metadata": {},
          "execution_count": 70
        }
      ]
    },
    {
      "cell_type": "code",
      "source": [
        "cv.inverse_transform(nd2array)"
      ],
      "metadata": {
        "colab": {
          "base_uri": "https://localhost:8080/"
        },
        "id": "qQQ_-txG4IO4",
        "outputId": "33b8bf2b-e163-4d94-dac2-ec32f9544360"
      },
      "execution_count": 71,
      "outputs": [
        {
          "output_type": "execute_result",
          "data": {
            "text/plain": [
              "[array(['hate', 'like'], dtype='<U6')]"
            ]
          },
          "metadata": {},
          "execution_count": 71
        }
      ]
    },
    {
      "cell_type": "code",
      "source": [
        "tfidf.inverse_transform(nd2array)"
      ],
      "metadata": {
        "colab": {
          "base_uri": "https://localhost:8080/"
        },
        "id": "95uxQNTo4SfN",
        "outputId": "73bc00eb-5e7c-4a89-dc01-372a70f3d02a"
      },
      "execution_count": 72,
      "outputs": [
        {
          "output_type": "execute_result",
          "data": {
            "text/plain": [
              "[array(['hate', 'like'], dtype='<U6')]"
            ]
          },
          "metadata": {},
          "execution_count": 72
        }
      ]
    },
    {
      "cell_type": "code",
      "source": [
        "feature_list = cv.get_feature_names() # 사전에 무엇이 들어있는지 확인\n",
        "feature_list"
      ],
      "metadata": {
        "colab": {
          "base_uri": "https://localhost:8080/"
        },
        "id": "B3zzgZPI4XYV",
        "outputId": "7fd325ad-609f-43f1-a779-d014d6322622"
      },
      "execution_count": 73,
      "outputs": [
        {
          "output_type": "stream",
          "name": "stderr",
          "text": [
            "/usr/local/lib/python3.7/dist-packages/sklearn/utils/deprecation.py:87: FutureWarning: Function get_feature_names is deprecated; get_feature_names is deprecated in 1.0 and will be removed in 1.2. Please use get_feature_names_out instead.\n",
            "  warnings.warn(msg, category=FutureWarning)\n"
          ]
        },
        {
          "output_type": "execute_result",
          "data": {
            "text/plain": [
              "['do', 'hate', 'know', 'like', 'love', 'should', 'want', 'what', 'you', 'your']"
            ]
          },
          "metadata": {},
          "execution_count": 73
        }
      ]
    },
    {
      "cell_type": "code",
      "source": [
        "# dic <--- list\n",
        "dictionary = dict()\n",
        "for index, value in enumerate(feature_list):\n",
        "  dictionary[index] = value\n",
        "dictionary"
      ],
      "metadata": {
        "colab": {
          "base_uri": "https://localhost:8080/"
        },
        "id": "hmGjGTRD4gaB",
        "outputId": "b5702c75-5683-4252-920a-de4420a9d338"
      },
      "execution_count": 74,
      "outputs": [
        {
          "output_type": "execute_result",
          "data": {
            "text/plain": [
              "{0: 'do',\n",
              " 1: 'hate',\n",
              " 2: 'know',\n",
              " 3: 'like',\n",
              " 4: 'love',\n",
              " 5: 'should',\n",
              " 6: 'want',\n",
              " 7: 'what',\n",
              " 8: 'you',\n",
              " 9: 'your'}"
            ]
          },
          "metadata": {},
          "execution_count": 74
        }
      ]
    },
    {
      "cell_type": "markdown",
      "source": [
        "# 실습 : 스팸 사전\n",
        "- 스팸을 나타내는 사전을 만들어주세요 (10개)\n",
        "- 스팸이 아닌 사전을 만들어주세요 (10개)"
      ],
      "metadata": {
        "id": "LWvQhhng8FTm"
      }
    },
    {
      "cell_type": "code",
      "source": [
        "spam_dict = [\"advertise\", \"promotion\", \"sales\", \"hu\", \"special\", \"sale\", \"member\", \"company\"]\n",
        "ham_dict = [\"order\", \"confirm\", \"check\", \"customer\", \"payment\", \"send\", \"general\", \"club\"]"
      ],
      "metadata": {
        "id": "VMlnHgXh5lKr"
      },
      "execution_count": 115,
      "outputs": []
    },
    {
      "cell_type": "code",
      "source": [
        "cv.fit(spam_dict)"
      ],
      "metadata": {
        "colab": {
          "base_uri": "https://localhost:8080/"
        },
        "id": "qzDJ7ndm_NKs",
        "outputId": "575e8df6-6d16-458a-92d8-bf2a03306023"
      },
      "execution_count": 116,
      "outputs": [
        {
          "output_type": "execute_result",
          "data": {
            "text/plain": [
              "CountVectorizer()"
            ]
          },
          "metadata": {},
          "execution_count": 116
        }
      ]
    },
    {
      "cell_type": "code",
      "source": [
        "cv.vocabulary_"
      ],
      "metadata": {
        "colab": {
          "base_uri": "https://localhost:8080/"
        },
        "id": "2XO2h0FUBduZ",
        "outputId": "479907b6-a386-46ab-9aac-008ec06b34ad"
      },
      "execution_count": 117,
      "outputs": [
        {
          "output_type": "execute_result",
          "data": {
            "text/plain": [
              "{'advertise': 0,\n",
              " 'company': 1,\n",
              " 'hu': 2,\n",
              " 'member': 3,\n",
              " 'promotion': 4,\n",
              " 'sale': 5,\n",
              " 'sales': 6,\n",
              " 'special': 7}"
            ]
          },
          "metadata": {},
          "execution_count": 117
        }
      ]
    },
    {
      "cell_type": "code",
      "source": [
        "# 광고!! 짱 좋은 판매 홍보전략입니다!! => 스팸입니다!!"
      ],
      "metadata": {
        "id": "tXSXTMcQ-jnO"
      },
      "execution_count": 118,
      "outputs": []
    },
    {
      "cell_type": "code",
      "source": [
        "email = ['promotion!! hu good sales sale!! check payment']"
      ],
      "metadata": {
        "id": "dZBlv1Jo-pr7"
      },
      "execution_count": 119,
      "outputs": []
    },
    {
      "cell_type": "code",
      "source": [
        "result1 = cv.transform(email).toarray()\n",
        "result1"
      ],
      "metadata": {
        "colab": {
          "base_uri": "https://localhost:8080/"
        },
        "id": "c_W1IdKc_rBa",
        "outputId": "0b55ff84-885e-4711-caa0-3bbcb40255ea"
      },
      "execution_count": 120,
      "outputs": [
        {
          "output_type": "execute_result",
          "data": {
            "text/plain": [
              "array([[0, 0, 1, 0, 1, 1, 1, 0]])"
            ]
          },
          "metadata": {},
          "execution_count": 120
        }
      ]
    },
    {
      "cell_type": "code",
      "source": [
        "cv.fit(ham_dict)"
      ],
      "metadata": {
        "colab": {
          "base_uri": "https://localhost:8080/"
        },
        "id": "eW7qijQzDB7V",
        "outputId": "2684e26c-ab4b-4564-baae-21a994c0ec84"
      },
      "execution_count": 121,
      "outputs": [
        {
          "output_type": "execute_result",
          "data": {
            "text/plain": [
              "CountVectorizer()"
            ]
          },
          "metadata": {},
          "execution_count": 121
        }
      ]
    },
    {
      "cell_type": "code",
      "source": [
        "cv.vocabulary_"
      ],
      "metadata": {
        "colab": {
          "base_uri": "https://localhost:8080/"
        },
        "id": "kUk6Zrh9DB9x",
        "outputId": "5aebe954-11fa-4586-d30f-f499d3bb0dde"
      },
      "execution_count": 122,
      "outputs": [
        {
          "output_type": "execute_result",
          "data": {
            "text/plain": [
              "{'check': 0,\n",
              " 'club': 1,\n",
              " 'confirm': 2,\n",
              " 'customer': 3,\n",
              " 'general': 4,\n",
              " 'order': 5,\n",
              " 'payment': 6,\n",
              " 'send': 7}"
            ]
          },
          "metadata": {},
          "execution_count": 122
        }
      ]
    },
    {
      "cell_type": "code",
      "source": [
        "result2 = cv.transform(email).toarray()\n",
        "result2"
      ],
      "metadata": {
        "colab": {
          "base_uri": "https://localhost:8080/"
        },
        "id": "sgibUneQDCAc",
        "outputId": "ed940a71-51aa-4131-da82-6073a41d86b3"
      },
      "execution_count": 123,
      "outputs": [
        {
          "output_type": "execute_result",
          "data": {
            "text/plain": [
              "array([[1, 0, 0, 0, 0, 0, 1, 0]])"
            ]
          },
          "metadata": {},
          "execution_count": 123
        }
      ]
    },
    {
      "cell_type": "code",
      "source": [
        "# result1의 0이 아닌 갯수의 합, result2의 0이 아닌 갯수의 합\n",
        "result1_count = 0\n",
        "result2_count = 0"
      ],
      "metadata": {
        "id": "2ueb9HJfEDig"
      },
      "execution_count": 124,
      "outputs": []
    },
    {
      "cell_type": "code",
      "source": [
        "list(result1)"
      ],
      "metadata": {
        "colab": {
          "base_uri": "https://localhost:8080/"
        },
        "id": "hhKXqZPsEp29",
        "outputId": "20b81033-67fc-46de-839a-524b69d618e3"
      },
      "execution_count": 125,
      "outputs": [
        {
          "output_type": "execute_result",
          "data": {
            "text/plain": [
              "[array([0, 0, 1, 0, 1, 1, 1, 0])]"
            ]
          },
          "metadata": {},
          "execution_count": 125
        }
      ]
    },
    {
      "cell_type": "code",
      "source": [
        "for item in result1[0]:\n",
        "  # print(item > 0)\n",
        "  if (item != 0):\n",
        "    result1_count = result1_count + 1\n",
        "\n",
        "result1_count"
      ],
      "metadata": {
        "colab": {
          "base_uri": "https://localhost:8080/"
        },
        "id": "AsofybRgESYM",
        "outputId": "c5dd5551-bfb3-4174-c41a-00249d83fb65"
      },
      "execution_count": 126,
      "outputs": [
        {
          "output_type": "execute_result",
          "data": {
            "text/plain": [
              "4"
            ]
          },
          "metadata": {},
          "execution_count": 126
        }
      ]
    },
    {
      "cell_type": "code",
      "source": [
        "for item in result2[0]:\n",
        "  # print(item > 0)\n",
        "  if (item != 0):\n",
        "    result2_count = result2_count + 1\n",
        "\n",
        "result2_count"
      ],
      "metadata": {
        "colab": {
          "base_uri": "https://localhost:8080/"
        },
        "id": "L15zCSmaFF5M",
        "outputId": "c5a591b8-dc20-4838-ae10-db98f1509a6d"
      },
      "execution_count": 127,
      "outputs": [
        {
          "output_type": "execute_result",
          "data": {
            "text/plain": [
              "2"
            ]
          },
          "metadata": {},
          "execution_count": 127
        }
      ]
    },
    {
      "cell_type": "markdown",
      "source": [
        "- 한글버전"
      ],
      "metadata": {
        "id": "zGNMqTrlHssO"
      }
    },
    {
      "cell_type": "code",
      "source": [
        "spam_dict2 = [\"광고\", \"홍보\", \"판매\", \"허경영\", \"특가\", \"세일\",\"회원\", \"회사\"]\n",
        "ham_dict2 = [\"주문\", \"확인\", \"검토\", \"고객\", \"결제\", \"배송\", \"일반\", \"동호회\"]"
      ],
      "metadata": {
        "id": "m_6qqdEpDCC3"
      },
      "execution_count": 137,
      "outputs": []
    },
    {
      "cell_type": "code",
      "source": [
        "cv2 = CountVectorizer()"
      ],
      "metadata": {
        "id": "cThoIYgZF2zf"
      },
      "execution_count": 138,
      "outputs": []
    },
    {
      "cell_type": "code",
      "source": [
        "cv2.fit(spam_dict2)"
      ],
      "metadata": {
        "colab": {
          "base_uri": "https://localhost:8080/"
        },
        "id": "F10NJzjiDSSD",
        "outputId": "56aff7e5-610f-4088-9f0f-eabb1894061d"
      },
      "execution_count": 139,
      "outputs": [
        {
          "output_type": "execute_result",
          "data": {
            "text/plain": [
              "CountVectorizer()"
            ]
          },
          "metadata": {},
          "execution_count": 139
        }
      ]
    },
    {
      "cell_type": "code",
      "source": [
        "email2 = ['광고!! 허경영 good 세일 확인 지불']"
      ],
      "metadata": {
        "id": "2V0pXl3jDYcZ"
      },
      "execution_count": 140,
      "outputs": []
    },
    {
      "cell_type": "code",
      "source": [
        "result3 = cv2.transform(email2).toarray()\n",
        "result3"
      ],
      "metadata": {
        "colab": {
          "base_uri": "https://localhost:8080/"
        },
        "id": "rk_TMgf4Gctc",
        "outputId": "40e5e214-3f23-4d2b-8b02-ee52e5a6706f"
      },
      "execution_count": 141,
      "outputs": [
        {
          "output_type": "execute_result",
          "data": {
            "text/plain": [
              "array([[1, 1, 0, 0, 1, 0, 0, 0]])"
            ]
          },
          "metadata": {},
          "execution_count": 141
        }
      ]
    },
    {
      "cell_type": "code",
      "source": [
        "cv2.fit(ham_dict2)"
      ],
      "metadata": {
        "colab": {
          "base_uri": "https://localhost:8080/"
        },
        "id": "dIndnodFGkk4",
        "outputId": "e4287e52-f22d-4ea0-ace4-b955e09a6fce"
      },
      "execution_count": 142,
      "outputs": [
        {
          "output_type": "execute_result",
          "data": {
            "text/plain": [
              "CountVectorizer()"
            ]
          },
          "metadata": {},
          "execution_count": 142
        }
      ]
    },
    {
      "cell_type": "code",
      "source": [
        "result4 = cv2.transform(email2).toarray()\n",
        "result4"
      ],
      "metadata": {
        "colab": {
          "base_uri": "https://localhost:8080/"
        },
        "id": "GR31ATwOGqZh",
        "outputId": "a043f35a-5089-40eb-ca8b-61fa474183f8"
      },
      "execution_count": 143,
      "outputs": [
        {
          "output_type": "execute_result",
          "data": {
            "text/plain": [
              "array([[0, 0, 0, 0, 0, 0, 0, 1]])"
            ]
          },
          "metadata": {},
          "execution_count": 143
        }
      ]
    },
    {
      "cell_type": "code",
      "source": [
        "# result3의 0이 아닌 갯수의 합, result4의 0이 아닌 갯수의 합\n",
        "result3_count = 0\n",
        "result4_count = 0"
      ],
      "metadata": {
        "id": "JTF1UKd0Gtqt"
      },
      "execution_count": 144,
      "outputs": []
    },
    {
      "cell_type": "code",
      "source": [
        "for item in result3[0]:\n",
        "  # print(item > 0)\n",
        "  if (item != 0):\n",
        "    result3_count = result3_count + 1\n",
        "\n",
        "for item in result4[0]:\n",
        "  if (item != 0):\n",
        "    result4_count = result4_count + 1\n",
        "\n",
        "print(result3_count)\n",
        "print(result4_count)"
      ],
      "metadata": {
        "colab": {
          "base_uri": "https://localhost:8080/"
        },
        "id": "LTlPiEufG2q4",
        "outputId": "c089df74-58e1-4f86-80fb-84c712aae1af"
      },
      "execution_count": 145,
      "outputs": [
        {
          "output_type": "stream",
          "name": "stdout",
          "text": [
            "3\n",
            "1\n"
          ]
        }
      ]
    },
    {
      "cell_type": "markdown",
      "source": [
        "# 실습 : 감정분류기\n",
        "- 긍정/부정 사전을 만들어보세요.\n",
        "- input()이용해서, 문장을 받으면, 긍정인지 부정인지 판단해보세요\n",
        "- if-idf vectorizer를 사용해주세요"
      ],
      "metadata": {
        "id": "BZaBCyPAHSxq"
      }
    },
    {
      "cell_type": "code",
      "source": [
        "yes = [\"좋다\", \"기쁘다\", \"즐겁다\", \"뿌듯하다\", \"만족하다\", \"반갑다\", \"행복하다\", \"개운하다\", \"황홀하다\", \"사랑스럽다\"]\n",
        "no = [\"싫다\", \"나쁘다\", \"슬프다\", \"힘들다\", \"불편하다\", \"불쾌하다\", \"우울하다\", \"무섭다\", \"최악이다\", \"부담스럽다\"]"
      ],
      "metadata": {
        "id": "YPxCvwS1HOfc"
      },
      "execution_count": 167,
      "outputs": []
    },
    {
      "cell_type": "code",
      "source": [
        "emotions = [input()]"
      ],
      "metadata": {
        "colab": {
          "base_uri": "https://localhost:8080/"
        },
        "id": "taH6QKKjOl97",
        "outputId": "76744f28-3466-446f-be8c-54f8470c72b4"
      },
      "execution_count": 168,
      "outputs": [
        {
          "name": "stdout",
          "output_type": "stream",
          "text": [
            "좋다 싫다 기쁘다 나쁘다 \n"
          ]
        }
      ]
    },
    {
      "cell_type": "code",
      "source": [
        "cv3 = CountVectorizer()"
      ],
      "metadata": {
        "id": "YC3ldb4nKBqM"
      },
      "execution_count": 169,
      "outputs": []
    },
    {
      "cell_type": "code",
      "source": [
        "cv3.fit(yes)"
      ],
      "metadata": {
        "colab": {
          "base_uri": "https://localhost:8080/"
        },
        "id": "No79H5iZLyBk",
        "outputId": "5a272870-9b2a-4da0-bde3-b5fe4ac6d428"
      },
      "execution_count": 170,
      "outputs": [
        {
          "output_type": "execute_result",
          "data": {
            "text/plain": [
              "CountVectorizer()"
            ]
          },
          "metadata": {},
          "execution_count": 170
        }
      ]
    },
    {
      "cell_type": "code",
      "source": [
        "yesyes = cv3.transform(emotions).toarray()\n",
        "yesyes"
      ],
      "metadata": {
        "colab": {
          "base_uri": "https://localhost:8080/"
        },
        "id": "NOu55fp4Od4N",
        "outputId": "5d9b9872-0e35-4214-d298-b5dea78b02e5"
      },
      "execution_count": 171,
      "outputs": [
        {
          "output_type": "execute_result",
          "data": {
            "text/plain": [
              "array([[0, 1, 0, 0, 0, 0, 1, 0, 0, 0]])"
            ]
          },
          "metadata": {},
          "execution_count": 171
        }
      ]
    },
    {
      "cell_type": "code",
      "source": [
        "cv3.fit(no)"
      ],
      "metadata": {
        "colab": {
          "base_uri": "https://localhost:8080/"
        },
        "id": "CtwQUgXKOeCj",
        "outputId": "b6f2c085-f73c-4e6f-e146-00cb878ace57"
      },
      "execution_count": 172,
      "outputs": [
        {
          "output_type": "execute_result",
          "data": {
            "text/plain": [
              "CountVectorizer()"
            ]
          },
          "metadata": {},
          "execution_count": 172
        }
      ]
    },
    {
      "cell_type": "code",
      "source": [
        "nono = cv3.transform(emotions).toarray()\n",
        "nono"
      ],
      "metadata": {
        "colab": {
          "base_uri": "https://localhost:8080/"
        },
        "id": "ThwyUMHzO9QP",
        "outputId": "f2b6e25d-3e5a-4ea6-860b-dd681c0d9288"
      },
      "execution_count": 173,
      "outputs": [
        {
          "output_type": "execute_result",
          "data": {
            "text/plain": [
              "array([[1, 0, 0, 0, 0, 0, 1, 0, 0, 0]])"
            ]
          },
          "metadata": {},
          "execution_count": 173
        }
      ]
    },
    {
      "cell_type": "code",
      "source": [
        "yes_count = 0\n",
        "no_count = 0"
      ],
      "metadata": {
        "id": "0qQu5MQRO9Xh"
      },
      "execution_count": 174,
      "outputs": []
    },
    {
      "cell_type": "code",
      "source": [
        "# [i for i in yesyes[0] if i != 0]"
      ],
      "metadata": {
        "id": "4G03IqT6L6Y1"
      },
      "execution_count": 175,
      "outputs": []
    },
    {
      "cell_type": "code",
      "source": [
        "for item in yesyes[0]:\n",
        "  # print(item > 0)\n",
        "  if (item != 0):\n",
        "    yes_count = yes_count + 1\n",
        "\n",
        "for item in nono[0]:\n",
        "  if (item != 0):\n",
        "    no_count = no_count + 1\n",
        "\n",
        "print(yes_count)\n",
        "print(no_count)"
      ],
      "metadata": {
        "colab": {
          "base_uri": "https://localhost:8080/"
        },
        "id": "DhbTa4dGOcK2",
        "outputId": "87f4f6bb-4a23-46af-a0b8-0ab624fb19ac"
      },
      "execution_count": 176,
      "outputs": [
        {
          "output_type": "stream",
          "name": "stdout",
          "text": [
            "2\n",
            "2\n"
          ]
        }
      ]
    },
    {
      "cell_type": "code",
      "source": [
        ""
      ],
      "metadata": {
        "id": "pMOHSr50P152"
      },
      "execution_count": null,
      "outputs": []
    }
  ]
}