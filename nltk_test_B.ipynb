{
 "cells": [
  {
   "cell_type": "code",
   "execution_count": 2,
   "id": "4678a3bb-877d-4668-9812-c1a78072657b",
   "metadata": {},
   "outputs": [],
   "source": [
    "import nltk"
   ]
  },
  {
   "cell_type": "code",
   "execution_count": 39,
   "id": "79f35f61-4c22-4e2b-b943-a8527aed75f2",
   "metadata": {},
   "outputs": [],
   "source": [
    "# nltk.download()"
   ]
  },
  {
   "cell_type": "code",
   "execution_count": 40,
   "id": "8c83bf5a-4b63-491c-9f94-d74bd46d1466",
   "metadata": {},
   "outputs": [],
   "source": [
    "import pandas as pd\n",
    "import matplotlib.pylab as plt\n",
    "%matplotlib inline"
   ]
  },
  {
   "cell_type": "code",
   "execution_count": 41,
   "id": "c4b46d53-5e6e-4a40-9e1c-86b3c33105a9",
   "metadata": {},
   "outputs": [
    {
     "data": {
      "text/plain": [
       "'By Honorary Reporter Oshini Jayamuni From Sri Lanka\\nPhotos = Marian Dimaculangan, Kelly Albers\\n\\n\\n\\nK-pop sensation BTS from Nov. 27 to Dec. 2 held its first in-person concerts in two years, \"Permission to Dance On Stage -- LA\" at SoFi Stadium in Los Angeles. Army fans from all over the world traveled to the Southern California city to attend this long-awaited reunion with the boy band.\\n\\n\\n\\nTwo Army fans in the U.S. who attended the concert shared their experiences in the event.\\n\\n\\n\\n       The first BTS in-person concerts in two years were held from Nov. 27 to Dec. 2 at SoFi Stadium in Los Angeles.\\n\\n\\n\\nMarian Dimaculangan joined Army in 2014 and saw BTS in a live performance for the first time in 2016 when it headlined the annual Hallyu convention KCON in Los Angeles. She said she has made it a tradition to see BTS once a year whenever it holds a concert in California to reward herself \"for working hard throughout the year.\" \\n\\n\\n\\n\\nMarian Dimaculangan and her friends take photos at SoFi Stadium, the venue of this year\\'s BTS concerts, in Los Angeles.\\n\\n\\n\\n\"Ticket buying was very difficult and stressful but expected since Army has seen the number of members quadruple over the last few years. I fortunately got tickets,\" she said. \"Two other Army friends and I drove on the first day of the concert from Sacramento at 3 a.m. and arrived in Inglewood at 10 a.m. When we entered our hotel\\'s lobby, it was filled with fellow Armys. At the concert venue, there were Armys from all over the world. Some gave dance performances while others gave and exchanged little freebies. I arranged about 50 bags of freebies to give at the concert to fellow fans.\"\\n\\n\\n\"I ordered my concert souvenirs online since the lines at merchandise booths in the stadium were crazy long. We waited in line in front of our entry gate. Staff first checked our vaccine cards or proof of a negative COVID-19 test along with our IDs, checked our clear bags and scanned our tickets. We entered the stadium, and the lights started to dim and music came on. I got excited and felt so connected to the 50,000 other fans at the stadium.\" \\n\\n\\n\\nShe added, \"The performance was mind blowing and the fan chants amazing, with Army bombs lighting up in coordination with the performance. I also marveled over how handsome each BTS member was and how happy they looked on stage. We all needed this after a rough couple of years. I felt alive again and needed this moment.\"\\n\\n\\n\\nA scene from the first of four BTS concerts in Los Angeles on Nov. 27\\n\\n\\nKelly Albers, 25, is a resident of California who discovered BTS through her sister in early 2017. They stumbled on the music video for \"Save Me\" on YouTube and spent the rest of that year learning the names of members and binge-watching the group\\'s content. \\n\\n\\n\\n\"BTS came into my life at a time when I needed it the most. College was tough and I was struggling with my mental health,\" she said. \"I\\'ve found so much love and light through BTS, and my life has changed in the best way possible since discovering the boys and their music.\" \\n\\n\\n\\n\\nKelly Albers spent two evenings at the concert venue of BTS in Los Angeles.\\n\\n\\n\"I was lucky enough to attend the Live Play at YouTube Theater on the first night and sit in the VIP section at SoFi Stadium on the second. The last time I saw the group live was at the Rose Bowl during the \\'Speak Yourself\\' tour, and since Army has significantly increased in size, I was initially a bit nervous.\" \\n\\n\\n\\nShe added, \"More than anything, I was so excited to finally see BTS in person again after two long years. The group\\'s music released during the pandemic helped me get through some of the toughest moments of my life, so seeing them in person was an emotional experience. I cried a few times and screamed with excitement when I heard my favorite songs live for the first time. I hope that the group goes on a world tour soon because I miss them already.\"\\n\\n\\n\\n\\n\\n\\nkalhong617@korea.kr \\n\\n\\n\\n*This article is written by a Korea.net Honorary Reporter. Our group of Honorary Reporters are from all around the world, and they share with Korea.net their love and passion for all things Korean.\\n\\n'"
      ]
     },
     "execution_count": 41,
     "metadata": {},
     "output_type": "execute_result"
    }
   ],
   "source": [
    "file = open('bts.txt', encoding='utf8')\n",
    "a = file.read()\n",
    "a"
   ]
  },
  {
   "cell_type": "code",
   "execution_count": 42,
   "id": "2b9ad0d6-a910-4e0f-85d6-81d3e1cd04d6",
   "metadata": {},
   "outputs": [
    {
     "name": "stdout",
     "output_type": "stream",
     "text": [
      "is\n",
      "\n",
      "are\n",
      "\n",
      "in\n",
      "\n",
      "after\n",
      "\n",
      "of\n",
      "\n",
      "2021\n",
      "\n",
      "the\n",
      "\n",
      "and\n",
      "\n",
      "i\n",
      "\n",
      "at\n",
      "\n",
      "to\n",
      "\n",
      "a\n",
      "\n",
      "she\n",
      "\n",
      "my\n",
      "\n",
      "years\n",
      "\n",
      "all \n",
      "\n",
      "this\n",
      "\n",
      "it\n",
      "\n",
      "over\n",
      "\n",
      "has\n",
      "\n",
      "since\n",
      "\n",
      "we\n",
      "\n",
      "with\n",
      "\n",
      "so\n",
      "\n",
      "their\n",
      "\n",
      "were\n",
      "\n",
      "kalhong617@koreakr\n",
      "\n",
      "dimaculangan\n",
      "\n",
      "--\n",
      "\n",
      "=\n",
      "\n"
     ]
    }
   ],
   "source": [
    "for line in open('stopwords.txt'):\n",
    "    print(line)"
   ]
  },
  {
   "cell_type": "code",
   "execution_count": 43,
   "id": "5a7c676b-49dc-4cfb-a574-b363b31b403c",
   "metadata": {},
   "outputs": [
    {
     "name": "stdout",
     "output_type": "stream",
     "text": [
      "is\n",
      "are\n",
      "in\n",
      "after\n",
      "of\n",
      "2021\n",
      "the\n",
      "and\n",
      "i\n",
      "at\n",
      "to\n",
      "a\n",
      "she\n",
      "my\n",
      "years\n",
      "all\n",
      "this\n",
      "it\n",
      "over\n",
      "has\n",
      "since\n",
      "we\n",
      "with\n",
      "so\n",
      "their\n",
      "were\n",
      "kalhong617@koreakr\n",
      "dimaculangan\n",
      "--\n",
      "=\n"
     ]
    }
   ],
   "source": [
    "for line in open('stopwords.txt'):\n",
    "    print(line.strip())"
   ]
  },
  {
   "cell_type": "code",
   "execution_count": 44,
   "id": "ea57b626-baa9-4f6a-8e13-d69c4945126d",
   "metadata": {},
   "outputs": [],
   "source": [
    "# collections\n",
    "# list(순서), dictionary(키:값), tuple(순서, 읽기전용), set(중복x)"
   ]
  },
  {
   "cell_type": "code",
   "execution_count": 45,
   "id": "565e6ffa-22a4-49f6-832f-79dc114348a0",
   "metadata": {},
   "outputs": [
    {
     "data": {
      "text/plain": [
       "{'--',\n",
       " '2021',\n",
       " '=',\n",
       " 'a',\n",
       " 'after',\n",
       " 'all',\n",
       " 'and',\n",
       " 'are',\n",
       " 'at',\n",
       " 'dimaculangan',\n",
       " 'has',\n",
       " 'i',\n",
       " 'in',\n",
       " 'is',\n",
       " 'it',\n",
       " 'kalhong617@koreakr',\n",
       " 'my',\n",
       " 'of',\n",
       " 'over',\n",
       " 'she',\n",
       " 'since',\n",
       " 'so',\n",
       " 'the',\n",
       " 'their',\n",
       " 'this',\n",
       " 'to',\n",
       " 'we',\n",
       " 'were',\n",
       " 'with',\n",
       " 'years'}"
      ]
     },
     "execution_count": 45,
     "metadata": {},
     "output_type": "execute_result"
    }
   ],
   "source": [
    "stopwords = set(line.strip() for line in open('stopwords.txt')) # 익명함수, 클러저! \n",
    "stopwords"
   ]
  },
  {
   "cell_type": "code",
   "execution_count": 53,
   "id": "f942c4d8-988e-4fdd-8707-fb87f6ca2a78",
   "metadata": {},
   "outputs": [
    {
     "data": {
      "text/plain": [
       "{'--',\n",
       " '2021',\n",
       " '=',\n",
       " 'a',\n",
       " 'after',\n",
       " 'all',\n",
       " 'and',\n",
       " 'are',\n",
       " 'at',\n",
       " 'dimaculangan',\n",
       " 'has',\n",
       " 'i',\n",
       " 'in',\n",
       " 'is',\n",
       " 'it',\n",
       " 'kalhong617@koreakr',\n",
       " 'my',\n",
       " 'of',\n",
       " 'over',\n",
       " 'she',\n",
       " 'since',\n",
       " 'so',\n",
       " 'the',\n",
       " 'their',\n",
       " 'this',\n",
       " 'to',\n",
       " 'we',\n",
       " 'were',\n",
       " 'with',\n",
       " 'years'}"
      ]
     },
     "execution_count": 53,
     "metadata": {},
     "output_type": "execute_result"
    }
   ],
   "source": [
    "stopwords.union(set(['the', 'to', 'one']))\n",
    "stopwords"
   ]
  },
  {
   "cell_type": "code",
   "execution_count": 54,
   "id": "1dee6b34-e7ba-4ef4-94af-2d3b6616b97e",
   "metadata": {},
   "outputs": [],
   "source": [
    "wordcount = {}\n",
    "for word in a.lower().split():\n",
    "    word = word.replace(\".\", \"\")\n",
    "    word = word.replace(\",\", \"\")\n",
    "    word = word.replace(\":\", \"\")\n",
    "    word = word.replace(\"\\\"\", \"\")\n",
    "    word = word.replace(\"*\", \"\")\n",
    "    \n",
    "    if word not in stopwords:\n",
    "        if word not in wordcount:\n",
    "            wordcount[word] = 1\n",
    "        else:\n",
    "            wordcount[word] += 1"
   ]
  },
  {
   "cell_type": "code",
   "execution_count": 55,
   "id": "5beb596f-68ef-4d88-b22a-91b5485ec13f",
   "metadata": {},
   "outputs": [
    {
     "data": {
      "text/plain": [
       "{'by': 2,\n",
       " 'honorary': 3,\n",
       " 'reporter': 2,\n",
       " 'oshini': 1,\n",
       " 'jayamuni': 1,\n",
       " 'from': 8,\n",
       " 'sri': 1,\n",
       " 'lanka': 1,\n",
       " 'photos': 2,\n",
       " 'marian': 3,\n",
       " 'kelly': 3,\n",
       " 'albers': 3,\n",
       " 'k-pop': 1,\n",
       " 'sensation': 1,\n",
       " 'bts': 12,\n",
       " 'nov': 3,\n",
       " '27': 3,\n",
       " 'dec': 2,\n",
       " '2': 2,\n",
       " 'held': 2,\n",
       " 'its': 1,\n",
       " 'first': 8,\n",
       " 'in-person': 2,\n",
       " 'concerts': 4,\n",
       " 'two': 6,\n",
       " 'permission': 1,\n",
       " 'dance': 2,\n",
       " 'on': 10,\n",
       " 'stage': 2,\n",
       " 'la': 1,\n",
       " 'sofi': 4,\n",
       " 'stadium': 7,\n",
       " 'los': 6,\n",
       " 'angeles': 6,\n",
       " 'army': 7,\n",
       " 'fans': 4,\n",
       " 'world': 4,\n",
       " 'traveled': 1,\n",
       " 'southern': 1,\n",
       " 'california': 3,\n",
       " 'city': 1,\n",
       " 'attend': 2,\n",
       " 'long-awaited': 1,\n",
       " 'reunion': 1,\n",
       " 'boy': 1,\n",
       " 'band': 1,\n",
       " 'us': 1,\n",
       " 'who': 2,\n",
       " 'attended': 1,\n",
       " 'concert': 7,\n",
       " 'shared': 1,\n",
       " 'experiences': 1,\n",
       " 'event': 1,\n",
       " 'joined': 1,\n",
       " '2014': 1,\n",
       " 'saw': 2,\n",
       " 'live': 4,\n",
       " 'performance': 3,\n",
       " 'for': 5,\n",
       " 'time': 4,\n",
       " '2016': 1,\n",
       " 'when': 4,\n",
       " 'headlined': 1,\n",
       " 'annual': 1,\n",
       " 'hallyu': 1,\n",
       " 'convention': 1,\n",
       " 'kcon': 1,\n",
       " 'said': 3,\n",
       " 'made': 1,\n",
       " 'tradition': 1,\n",
       " 'see': 2,\n",
       " 'once': 1,\n",
       " 'year': 3,\n",
       " 'whenever': 1,\n",
       " 'holds': 1,\n",
       " 'reward': 1,\n",
       " 'herself': 1,\n",
       " 'working': 1,\n",
       " 'hard': 1,\n",
       " 'throughout': 1,\n",
       " 'her': 2,\n",
       " 'friends': 2,\n",
       " 'take': 1,\n",
       " 'venue': 3,\n",
       " \"year's\": 1,\n",
       " 'ticket': 1,\n",
       " 'buying': 1,\n",
       " 'was': 11,\n",
       " 'very': 1,\n",
       " 'difficult': 1,\n",
       " 'stressful': 1,\n",
       " 'but': 1,\n",
       " 'expected': 1,\n",
       " 'seen': 1,\n",
       " 'number': 1,\n",
       " 'members': 2,\n",
       " 'quadruple': 1,\n",
       " 'last': 2,\n",
       " 'few': 2,\n",
       " 'fortunately': 1,\n",
       " 'got': 2,\n",
       " 'tickets': 2,\n",
       " 'other': 2,\n",
       " 'drove': 1,\n",
       " 'day': 1,\n",
       " 'sacramento': 1,\n",
       " '3': 1,\n",
       " 'am': 2,\n",
       " 'arrived': 1,\n",
       " 'inglewood': 1,\n",
       " '10': 1,\n",
       " 'entered': 2,\n",
       " 'our': 7,\n",
       " \"hotel's\": 1,\n",
       " 'lobby': 1,\n",
       " 'filled': 1,\n",
       " 'fellow': 2,\n",
       " 'armys': 2,\n",
       " 'there': 1,\n",
       " 'some': 2,\n",
       " 'gave': 2,\n",
       " 'performances': 1,\n",
       " 'while': 1,\n",
       " 'others': 1,\n",
       " 'exchanged': 1,\n",
       " 'little': 1,\n",
       " 'freebies': 2,\n",
       " 'arranged': 1,\n",
       " 'about': 1,\n",
       " '50': 1,\n",
       " 'bags': 2,\n",
       " 'give': 1,\n",
       " 'ordered': 1,\n",
       " 'souvenirs': 1,\n",
       " 'online': 1,\n",
       " 'lines': 1,\n",
       " 'merchandise': 1,\n",
       " 'booths': 1,\n",
       " 'crazy': 1,\n",
       " 'long': 2,\n",
       " 'waited': 1,\n",
       " 'line': 1,\n",
       " 'front': 1,\n",
       " 'entry': 1,\n",
       " 'gate': 1,\n",
       " 'staff': 1,\n",
       " 'checked': 2,\n",
       " 'vaccine': 1,\n",
       " 'cards': 1,\n",
       " 'or': 1,\n",
       " 'proof': 1,\n",
       " 'negative': 1,\n",
       " 'covid-19': 1,\n",
       " 'test': 1,\n",
       " 'along': 1,\n",
       " 'ids': 1,\n",
       " 'clear': 1,\n",
       " 'scanned': 1,\n",
       " 'lights': 1,\n",
       " 'started': 1,\n",
       " 'dim': 1,\n",
       " 'music': 4,\n",
       " 'came': 2,\n",
       " 'excited': 2,\n",
       " 'felt': 2,\n",
       " 'connected': 1,\n",
       " '50000': 1,\n",
       " 'added': 2,\n",
       " 'mind': 1,\n",
       " 'blowing': 1,\n",
       " 'fan': 1,\n",
       " 'chants': 1,\n",
       " 'amazing': 1,\n",
       " 'bombs': 1,\n",
       " 'lighting': 1,\n",
       " 'up': 1,\n",
       " 'coordination': 1,\n",
       " 'also': 1,\n",
       " 'marveled': 1,\n",
       " 'how': 2,\n",
       " 'handsome': 1,\n",
       " 'each': 1,\n",
       " 'member': 1,\n",
       " 'happy': 1,\n",
       " 'they': 3,\n",
       " 'looked': 1,\n",
       " 'needed': 3,\n",
       " 'rough': 1,\n",
       " 'couple': 1,\n",
       " 'alive': 1,\n",
       " 'again': 2,\n",
       " 'moment': 1,\n",
       " 'scene': 1,\n",
       " 'four': 1,\n",
       " '25': 1,\n",
       " 'resident': 1,\n",
       " 'discovered': 1,\n",
       " 'through': 3,\n",
       " 'sister': 1,\n",
       " 'early': 1,\n",
       " '2017': 1,\n",
       " 'stumbled': 1,\n",
       " 'video': 1,\n",
       " 'save': 1,\n",
       " 'me': 2,\n",
       " 'youtube': 2,\n",
       " 'spent': 2,\n",
       " 'rest': 1,\n",
       " 'that': 2,\n",
       " 'learning': 1,\n",
       " 'names': 1,\n",
       " 'binge-watching': 1,\n",
       " \"group's\": 2,\n",
       " 'content': 1,\n",
       " 'into': 1,\n",
       " 'life': 3,\n",
       " 'most': 1,\n",
       " 'college': 1,\n",
       " 'tough': 1,\n",
       " 'struggling': 1,\n",
       " 'mental': 1,\n",
       " 'health': 1,\n",
       " \"i've\": 1,\n",
       " 'found': 1,\n",
       " 'much': 1,\n",
       " 'love': 2,\n",
       " 'light': 1,\n",
       " 'changed': 1,\n",
       " 'best': 1,\n",
       " 'way': 1,\n",
       " 'possible': 1,\n",
       " 'discovering': 1,\n",
       " 'boys': 1,\n",
       " 'evenings': 1,\n",
       " 'lucky': 1,\n",
       " 'enough': 1,\n",
       " 'play': 1,\n",
       " 'theater': 1,\n",
       " 'night': 1,\n",
       " 'sit': 1,\n",
       " 'vip': 1,\n",
       " 'section': 1,\n",
       " 'second': 1,\n",
       " 'group': 3,\n",
       " 'rose': 1,\n",
       " 'bowl': 1,\n",
       " 'during': 2,\n",
       " \"'speak\": 1,\n",
       " \"yourself'\": 1,\n",
       " 'tour': 2,\n",
       " 'significantly': 1,\n",
       " 'increased': 1,\n",
       " 'size': 1,\n",
       " 'initially': 1,\n",
       " 'bit': 1,\n",
       " 'nervous': 1,\n",
       " 'more': 1,\n",
       " 'than': 1,\n",
       " 'anything': 1,\n",
       " 'finally': 1,\n",
       " 'person': 2,\n",
       " 'released': 1,\n",
       " 'pandemic': 1,\n",
       " 'helped': 1,\n",
       " 'get': 1,\n",
       " 'toughest': 1,\n",
       " 'moments': 1,\n",
       " 'seeing': 1,\n",
       " 'them': 2,\n",
       " 'an': 1,\n",
       " 'emotional': 1,\n",
       " 'experience': 1,\n",
       " 'cried': 1,\n",
       " 'times': 1,\n",
       " 'screamed': 1,\n",
       " 'excitement': 1,\n",
       " 'heard': 1,\n",
       " 'favorite': 1,\n",
       " 'songs': 1,\n",
       " 'hope': 1,\n",
       " 'goes': 1,\n",
       " 'soon': 1,\n",
       " 'because': 1,\n",
       " 'miss': 1,\n",
       " 'already': 1,\n",
       " 'article': 1,\n",
       " 'written': 1,\n",
       " 'koreanet': 2,\n",
       " 'reporters': 1,\n",
       " 'around': 1,\n",
       " 'share': 1,\n",
       " 'passion': 1,\n",
       " 'things': 1,\n",
       " 'korean': 1}"
      ]
     },
     "execution_count": 55,
     "metadata": {},
     "output_type": "execute_result"
    }
   ],
   "source": [
    "wordcount"
   ]
  },
  {
   "cell_type": "code",
   "execution_count": 56,
   "id": "534df67c-f39a-4845-80fc-230ad3900a11",
   "metadata": {},
   "outputs": [],
   "source": [
    "import collections"
   ]
  },
  {
   "cell_type": "code",
   "execution_count": 57,
   "id": "0bab00cc-49e0-4202-8b9e-c97f1f8e8590",
   "metadata": {},
   "outputs": [],
   "source": [
    "word_counter = collections.Counter(wordcount)"
   ]
  },
  {
   "cell_type": "code",
   "execution_count": 58,
   "id": "246f86c9-a09a-4f9f-8200-a9152e32f8ea",
   "metadata": {},
   "outputs": [
    {
     "data": {
      "text/plain": [
       "[('bts', 12), ('was', 11), ('on', 10)]"
      ]
     },
     "execution_count": 58,
     "metadata": {},
     "output_type": "execute_result"
    }
   ],
   "source": [
    "word_counter.most_common(3)   # 3등까지의 오름차순"
   ]
  },
  {
   "cell_type": "code",
   "execution_count": 59,
   "id": "b7fa9419-5a9b-47e5-b5f8-95fec2ccdde6",
   "metadata": {},
   "outputs": [
    {
     "name": "stdin",
     "output_type": "stream",
     "text": [
      "how many list >>  5\n"
     ]
    },
    {
     "data": {
      "text/plain": [
       "[('bts', 12), ('was', 11), ('on', 10), ('from', 8), ('first', 8)]"
      ]
     },
     "execution_count": 59,
     "metadata": {},
     "output_type": "execute_result"
    }
   ],
   "source": [
    "# n_print = int(input('how many list >> '))\n",
    "# word_counter.most_common(n_print)"
   ]
  },
  {
   "cell_type": "code",
   "execution_count": 60,
   "id": "4f96ae9f-658d-4f88-9baa-dcddd271499f",
   "metadata": {},
   "outputs": [
    {
     "name": "stdin",
     "output_type": "stream",
     "text": [
      "how many list >>  5\n"
     ]
    },
    {
     "name": "stdout",
     "output_type": "stream",
     "text": [
      "bts : 12\n",
      "was : 11\n",
      "on : 10\n",
      "from : 8\n",
      "first : 8\n"
     ]
    }
   ],
   "source": [
    "# 튜플로 예쁘게 값을 꾸며볼까\n",
    "n_print = int(input('how many list >> '))\n",
    "for word, count in word_counter.most_common(n_print):\n",
    "    print(word, ':', count)"
   ]
  },
  {
   "cell_type": "code",
   "execution_count": 61,
   "id": "bf5153d8-2e29-4d4c-9867-bcdcfdb8bc90",
   "metadata": {},
   "outputs": [],
   "source": [
    "file.close()"
   ]
  },
  {
   "cell_type": "code",
   "execution_count": 62,
   "id": "db7e4035-5371-4d1f-8f54-c82ac8a7c722",
   "metadata": {},
   "outputs": [
    {
     "data": {
      "text/html": [
       "<div>\n",
       "<style scoped>\n",
       "    .dataframe tbody tr th:only-of-type {\n",
       "        vertical-align: middle;\n",
       "    }\n",
       "\n",
       "    .dataframe tbody tr th {\n",
       "        vertical-align: top;\n",
       "    }\n",
       "\n",
       "    .dataframe thead th {\n",
       "        text-align: right;\n",
       "    }\n",
       "</style>\n",
       "<table border=\"1\" class=\"dataframe\">\n",
       "  <thead>\n",
       "    <tr style=\"text-align: right;\">\n",
       "      <th></th>\n",
       "      <th>Word</th>\n",
       "      <th>Count</th>\n",
       "    </tr>\n",
       "  </thead>\n",
       "  <tbody>\n",
       "    <tr>\n",
       "      <th>0</th>\n",
       "      <td>bts</td>\n",
       "      <td>12</td>\n",
       "    </tr>\n",
       "    <tr>\n",
       "      <th>1</th>\n",
       "      <td>was</td>\n",
       "      <td>11</td>\n",
       "    </tr>\n",
       "    <tr>\n",
       "      <th>2</th>\n",
       "      <td>on</td>\n",
       "      <td>10</td>\n",
       "    </tr>\n",
       "    <tr>\n",
       "      <th>3</th>\n",
       "      <td>from</td>\n",
       "      <td>8</td>\n",
       "    </tr>\n",
       "    <tr>\n",
       "      <th>4</th>\n",
       "      <td>first</td>\n",
       "      <td>8</td>\n",
       "    </tr>\n",
       "  </tbody>\n",
       "</table>\n",
       "</div>"
      ],
      "text/plain": [
       "    Word  Count\n",
       "0    bts     12\n",
       "1    was     11\n",
       "2     on     10\n",
       "3   from      8\n",
       "4  first      8"
      ]
     },
     "execution_count": 62,
     "metadata": {},
     "output_type": "execute_result"
    }
   ],
   "source": [
    "# 그래프를 그려볼까\n",
    "list = word_counter.most_common(n_print)\n",
    "\n",
    "df = pd.DataFrame(list, columns=['Word', 'Count'])\n",
    "df"
   ]
  },
  {
   "cell_type": "code",
   "execution_count": 63,
   "id": "cc6ddf8b-7234-48ac-91a2-5438fe803c9b",
   "metadata": {},
   "outputs": [
    {
     "data": {
      "text/plain": [
       "<AxesSubplot:xlabel='Word'>"
      ]
     },
     "execution_count": 63,
     "metadata": {},
     "output_type": "execute_result"
    },
    {
     "data": {
      "image/png": "[encoded data removed]",
      "text/plain": [
       "<Figure size 432x288 with 1 Axes>"
      ]
     },
     "metadata": {
      "needs_background": "light"
     },
     "output_type": "display_data"
    }
   ],
   "source": [
    "df.plot.bar(x = 'Word', y = 'Count')"
   ]
  },
  {
   "cell_type": "markdown",
   "id": "4a53aee2-907c-4c38-b29a-c538261a8a19",
   "metadata": {},
   "source": [
    "## 실습 : 비교분석 \n",
    "- 긍정인 리뷰에서는 어떤 단어가 제일 많이 나왔는지??? \n",
    "- 부정인 리뷰에서는 어떤 단어가 제일 많이 나왔는지???"
   ]
  },
  {
   "cell_type": "code",
   "execution_count": 92,
   "id": "dfe35c10-4286-4ff1-9ae3-603461cde63f",
   "metadata": {},
   "outputs": [
    {
     "data": {
      "text/plain": [
       "'Kurly Inc., the operator of South Korea’s pioneering fresh food platform Market Kurly, has drawn 250 billion won ($212 million) in pre-IPO funding, pushing its corporate value above 4 trillion won ahead of its Kospi debut planned for the first half of next year.\\n\\nAccording to investment bank sources on Wednesday, Kurly has notified its existing shareholders of its latest fund-raising of 250 billion won, with a share sold each at 100,000 won.\\n\\nDuring the Series F round that raised 225.4 billion won in July, its corporate value was estimated at 2.5 trillion won. Unlike the past fund-raising, a single international financial investor bought the shares offered in latest round. The unidentified investor is not among the existing shareholders. Kurly raised a total of $482 million over seven rounds from 14 investors. Aspex Management and CJ Logistics joined through the seventh round.\\n\\nThe sources projected the platform has been valued for 4 trillion won by the new investor, up 60 percent from July valuation.\\nKurly Inc., the operator of South Korea’s pioneering fresh food platform Market Kurly, has drawn 250 billion won ($212 million) in pre-IPO funding, pushing its corporate value above 4 trillion won ahead of its Kospi debut planned for the first half of next year.\\n\\nAccording to investment bank sources on Wednesday, Kurly has notified its existing shareholders of its latest fund-raising of 250 billion won, with a share sold each at 100,000 won.\\n\\nDuring the Series F round that raised 225.4 billion won in July, its corporate value was estimated at 2.5 trillion won. Unlike the past fund-raising, a single international financial investor bought the shares offered in latest round. The unidentified investor is not among the existing shareholders. Kurly raised a total of $482 million over seven rounds from 14 investors. Aspex Management and CJ Logistics joined through the seventh round.\\n\\nThe sources projected the platform has been valued for 4 trillion won by the new investor, up 60 percent from July valuation.\\n\\nKurly Inc., the operator of South Korea’s online grocery platform Market Kurly, has selected an underwriter syndicate for its initial public offering in home market next year after shifting its original IPO plan away from the NYSE.\\n\\nThe company Friday announced that it has named NH Investment & Securities, Korea Investment & Securities, and JP Morgan as joint book runners for its IPO on the Kospi with a goal of listing by June next year.\\n\\nKurly originally planned to go public via U.S. stock market but turned its direction to the Kospi as stock market operator Korea Exchange relaxed listing requirements for companies with high growth potential in April. Under the revised rule, a unicorn valued at over 1 trillion won ($855 million) will be allowed to join the Kospi even if it does not meet other financial requirements.\\n\\nThe company projects its gross merchandise value (GMV) to hover around 2 trillion won this year. GMV refers to the total value of sales via e-commerce platforms over a specific period of time.\\n\\nIts capital remains impaired on book due to loss in valuation of preferred shares, but the company is confident about its IPO and said capital would reverse to surplus when preferred shares convert to common shares.\\n\\nKurly plans to use IPO proceeds on upgrading its online grocery platform, such as simplifying payment process and improving delivery system, as well as expanding manpower.\\n\\n'"
      ]
     },
     "execution_count": 92,
     "metadata": {},
     "output_type": "execute_result"
    }
   ],
   "source": [
    "file = open('market.txt', encoding='utf8')\n",
    "b = file.read()\n",
    "b"
   ]
  },
  {
   "cell_type": "code",
   "execution_count": 111,
   "id": "8369e55f-c29f-4b82-ad1a-02c02b4e7b3d",
   "metadata": {},
   "outputs": [
    {
     "name": "stdout",
     "output_type": "stream",
     "text": [
      "is\n",
      "are\n",
      "in\n",
      "after\n",
      "of\n",
      "2021\n",
      "the\n",
      "($212\n",
      "million)\n",
      "$482\n",
      "&\n",
      "($855\n",
      "(gmv)\n"
     ]
    }
   ],
   "source": [
    "for line in open('marketwords.txt'):\n",
    "    print(line.strip())"
   ]
  },
  {
   "cell_type": "code",
   "execution_count": 112,
   "id": "f3289364-f032-4fe5-8725-d2e0917a64d7",
   "metadata": {},
   "outputs": [
    {
     "data": {
      "text/plain": [
       "{'$482',\n",
       " '&',\n",
       " '($212',\n",
       " '($855',\n",
       " '(gmv)',\n",
       " '2021',\n",
       " 'after',\n",
       " 'are',\n",
       " 'in',\n",
       " 'is',\n",
       " 'million)',\n",
       " 'of',\n",
       " 'the'}"
      ]
     },
     "execution_count": 112,
     "metadata": {},
     "output_type": "execute_result"
    }
   ],
   "source": [
    "marketwords = set(line.strip() for line in open('marketwords.txt')) # 익명함수, 클러저! \n",
    "marketwords"
   ]
  },
  {
   "cell_type": "code",
   "execution_count": 113,
   "id": "f0cef95f-e1b4-4c37-bc4a-2d2591f719a3",
   "metadata": {},
   "outputs": [
    {
     "data": {
      "text/plain": [
       "{'$482',\n",
       " '&',\n",
       " '($212',\n",
       " '($855',\n",
       " '(gmv)',\n",
       " '2021',\n",
       " 'after',\n",
       " 'are',\n",
       " 'in',\n",
       " 'is',\n",
       " 'million)',\n",
       " 'of',\n",
       " 'the'}"
      ]
     },
     "execution_count": 113,
     "metadata": {},
     "output_type": "execute_result"
    }
   ],
   "source": [
    "marketwords.union(set(['has', 'with']))\n",
    "marketwords"
   ]
  },
  {
   "cell_type": "code",
   "execution_count": 114,
   "id": "7f0333d2-b99e-4807-88e3-2304ff0599b6",
   "metadata": {},
   "outputs": [],
   "source": [
    "marketcount = {}\n",
    "for market in b.lower().split():\n",
    "    market = market.replace(\".\", \"\")\n",
    "    market = market.replace(\",\", \"\")\n",
    "    market = market.replace(\":\", \"\")\n",
    "    market = market.replace(\"\\\"\", \"\")\n",
    "    market = market.replace(\"*\", \"\")\n",
    "    \n",
    "    if market not in marketwords:\n",
    "        if market not in marketcount:\n",
    "            marketcount[market] = 1\n",
    "        else:\n",
    "            marketcount[market] += 1"
   ]
  },
  {
   "cell_type": "code",
   "execution_count": 115,
   "id": "d244c5ae-0ddc-4954-ab33-29592adeaae0",
   "metadata": {},
   "outputs": [
    {
     "data": {
      "text/plain": [
       "{'kurly': 12,\n",
       " 'inc': 3,\n",
       " 'operator': 4,\n",
       " 'south': 3,\n",
       " 'korea’s': 3,\n",
       " 'pioneering': 2,\n",
       " 'fresh': 2,\n",
       " 'food': 2,\n",
       " 'platform': 6,\n",
       " 'market': 6,\n",
       " 'has': 8,\n",
       " 'drawn': 2,\n",
       " '250': 4,\n",
       " 'billion': 6,\n",
       " 'won': 16,\n",
       " 'pre-ipo': 2,\n",
       " 'funding': 2,\n",
       " 'pushing': 2,\n",
       " 'its': 18,\n",
       " 'corporate': 4,\n",
       " 'value': 6,\n",
       " 'above': 2,\n",
       " '4': 4,\n",
       " 'trillion': 8,\n",
       " 'ahead': 2,\n",
       " 'kospi': 5,\n",
       " 'debut': 2,\n",
       " 'planned': 3,\n",
       " 'for': 7,\n",
       " 'first': 2,\n",
       " 'half': 2,\n",
       " 'next': 4,\n",
       " 'year': 5,\n",
       " 'according': 2,\n",
       " 'to': 11,\n",
       " 'investment': 4,\n",
       " 'bank': 2,\n",
       " 'sources': 4,\n",
       " 'on': 5,\n",
       " 'wednesday': 2,\n",
       " 'notified': 2,\n",
       " 'existing': 4,\n",
       " 'shareholders': 4,\n",
       " 'latest': 4,\n",
       " 'fund-raising': 4,\n",
       " 'with': 4,\n",
       " 'a': 9,\n",
       " 'share': 2,\n",
       " 'sold': 2,\n",
       " 'each': 2,\n",
       " 'at': 5,\n",
       " '100000': 2,\n",
       " 'during': 2,\n",
       " 'series': 2,\n",
       " 'f': 2,\n",
       " 'round': 6,\n",
       " 'that': 3,\n",
       " 'raised': 4,\n",
       " '2254': 2,\n",
       " 'july': 4,\n",
       " 'was': 2,\n",
       " 'estimated': 2,\n",
       " '25': 2,\n",
       " 'unlike': 2,\n",
       " 'past': 2,\n",
       " 'single': 2,\n",
       " 'international': 2,\n",
       " 'financial': 3,\n",
       " 'investor': 6,\n",
       " 'bought': 2,\n",
       " 'shares': 5,\n",
       " 'offered': 2,\n",
       " 'unidentified': 2,\n",
       " 'not': 3,\n",
       " 'among': 2,\n",
       " 'total': 3,\n",
       " 'million': 2,\n",
       " 'over': 4,\n",
       " 'seven': 2,\n",
       " 'rounds': 2,\n",
       " 'from': 5,\n",
       " '14': 2,\n",
       " 'investors': 2,\n",
       " 'aspex': 2,\n",
       " 'management': 2,\n",
       " 'and': 5,\n",
       " 'cj': 2,\n",
       " 'logistics': 2,\n",
       " 'joined': 2,\n",
       " 'through': 2,\n",
       " 'seventh': 2,\n",
       " 'projected': 2,\n",
       " 'been': 2,\n",
       " 'valued': 3,\n",
       " 'by': 3,\n",
       " 'new': 2,\n",
       " 'up': 2,\n",
       " '60': 2,\n",
       " 'percent': 2,\n",
       " 'valuation': 3,\n",
       " 'online': 2,\n",
       " 'grocery': 2,\n",
       " 'selected': 1,\n",
       " 'an': 1,\n",
       " 'underwriter': 1,\n",
       " 'syndicate': 1,\n",
       " 'initial': 1,\n",
       " 'public': 2,\n",
       " 'offering': 1,\n",
       " 'home': 1,\n",
       " 'shifting': 1,\n",
       " 'original': 1,\n",
       " 'ipo': 4,\n",
       " 'plan': 1,\n",
       " 'away': 1,\n",
       " 'nyse': 1,\n",
       " 'company': 3,\n",
       " 'friday': 1,\n",
       " 'announced': 1,\n",
       " 'it': 2,\n",
       " 'named': 1,\n",
       " 'nh': 1,\n",
       " 'securities': 2,\n",
       " 'korea': 2,\n",
       " 'jp': 1,\n",
       " 'morgan': 1,\n",
       " 'as': 5,\n",
       " 'joint': 1,\n",
       " 'book': 2,\n",
       " 'runners': 1,\n",
       " 'goal': 1,\n",
       " 'listing': 2,\n",
       " 'june': 1,\n",
       " 'originally': 1,\n",
       " 'go': 1,\n",
       " 'via': 2,\n",
       " 'us': 1,\n",
       " 'stock': 2,\n",
       " 'but': 2,\n",
       " 'turned': 1,\n",
       " 'direction': 1,\n",
       " 'exchange': 1,\n",
       " 'relaxed': 1,\n",
       " 'requirements': 2,\n",
       " 'companies': 1,\n",
       " 'high': 1,\n",
       " 'growth': 1,\n",
       " 'potential': 1,\n",
       " 'april': 1,\n",
       " 'under': 1,\n",
       " 'revised': 1,\n",
       " 'rule': 1,\n",
       " 'unicorn': 1,\n",
       " '1': 1,\n",
       " 'will': 1,\n",
       " 'be': 1,\n",
       " 'allowed': 1,\n",
       " 'join': 1,\n",
       " 'even': 1,\n",
       " 'if': 1,\n",
       " 'does': 1,\n",
       " 'meet': 1,\n",
       " 'other': 1,\n",
       " 'projects': 1,\n",
       " 'gross': 1,\n",
       " 'merchandise': 1,\n",
       " 'hover': 1,\n",
       " 'around': 1,\n",
       " '2': 1,\n",
       " 'this': 1,\n",
       " 'gmv': 1,\n",
       " 'refers': 1,\n",
       " 'sales': 1,\n",
       " 'e-commerce': 1,\n",
       " 'platforms': 1,\n",
       " 'specific': 1,\n",
       " 'period': 1,\n",
       " 'time': 1,\n",
       " 'capital': 2,\n",
       " 'remains': 1,\n",
       " 'impaired': 1,\n",
       " 'due': 1,\n",
       " 'loss': 1,\n",
       " 'preferred': 2,\n",
       " 'confident': 1,\n",
       " 'about': 1,\n",
       " 'said': 1,\n",
       " 'would': 1,\n",
       " 'reverse': 1,\n",
       " 'surplus': 1,\n",
       " 'when': 1,\n",
       " 'convert': 1,\n",
       " 'common': 1,\n",
       " 'plans': 1,\n",
       " 'use': 1,\n",
       " 'proceeds': 1,\n",
       " 'upgrading': 1,\n",
       " 'such': 1,\n",
       " 'simplifying': 1,\n",
       " 'payment': 1,\n",
       " 'process': 1,\n",
       " 'improving': 1,\n",
       " 'delivery': 1,\n",
       " 'system': 1,\n",
       " 'well': 1,\n",
       " 'expanding': 1,\n",
       " 'manpower': 1}"
      ]
     },
     "execution_count": 115,
     "metadata": {},
     "output_type": "execute_result"
    }
   ],
   "source": [
    "marketcount"
   ]
  },
  {
   "cell_type": "code",
   "execution_count": 116,
   "id": "c752223d-c026-48c5-9542-3bb1bed78abe",
   "metadata": {},
   "outputs": [],
   "source": [
    "market_counter = collections.Counter(marketcount)"
   ]
  },
  {
   "cell_type": "code",
   "execution_count": 117,
   "id": "b265d06f-2acc-4e3f-9b95-6dff4fbe0e8a",
   "metadata": {},
   "outputs": [
    {
     "data": {
      "text/plain": [
       "[('its', 18), ('won', 16), ('kurly', 12)]"
      ]
     },
     "execution_count": 117,
     "metadata": {},
     "output_type": "execute_result"
    }
   ],
   "source": [
    "market_counter.most_common(3)"
   ]
  },
  {
   "cell_type": "code",
   "execution_count": 119,
   "id": "efeb8488-9d8a-4947-9f14-7d250c70a30e",
   "metadata": {},
   "outputs": [
    {
     "name": "stdin",
     "output_type": "stream",
     "text": [
      "how many list >>  10\n"
     ]
    },
    {
     "data": {
      "text/plain": [
       "[('its', 18),\n",
       " ('won', 16),\n",
       " ('kurly', 12),\n",
       " ('to', 11),\n",
       " ('a', 9),\n",
       " ('has', 8),\n",
       " ('trillion', 8),\n",
       " ('for', 7),\n",
       " ('platform', 6),\n",
       " ('market', 6)]"
      ]
     },
     "execution_count": 119,
     "metadata": {},
     "output_type": "execute_result"
    }
   ],
   "source": [
    "m_print = int(input('how many list >> '))\n",
    "market_counter.most_common(m_print)"
   ]
  },
  {
   "cell_type": "code",
   "execution_count": 120,
   "id": "026a24d2-dddc-434a-9bda-be61ae18df41",
   "metadata": {},
   "outputs": [],
   "source": [
    "file.close()"
   ]
  },
  {
   "cell_type": "code",
   "execution_count": 121,
   "id": "2ed7cd37-c539-4144-ad4d-f3c6de4103af",
   "metadata": {},
   "outputs": [
    {
     "data": {
      "text/html": [
       "<div>\n",
       "<style scoped>\n",
       "    .dataframe tbody tr th:only-of-type {\n",
       "        vertical-align: middle;\n",
       "    }\n",
       "\n",
       "    .dataframe tbody tr th {\n",
       "        vertical-align: top;\n",
       "    }\n",
       "\n",
       "    .dataframe thead th {\n",
       "        text-align: right;\n",
       "    }\n",
       "</style>\n",
       "<table border=\"1\" class=\"dataframe\">\n",
       "  <thead>\n",
       "    <tr style=\"text-align: right;\">\n",
       "      <th></th>\n",
       "      <th>Word</th>\n",
       "      <th>Count</th>\n",
       "    </tr>\n",
       "  </thead>\n",
       "  <tbody>\n",
       "    <tr>\n",
       "      <th>0</th>\n",
       "      <td>its</td>\n",
       "      <td>18</td>\n",
       "    </tr>\n",
       "    <tr>\n",
       "      <th>1</th>\n",
       "      <td>won</td>\n",
       "      <td>16</td>\n",
       "    </tr>\n",
       "    <tr>\n",
       "      <th>2</th>\n",
       "      <td>kurly</td>\n",
       "      <td>12</td>\n",
       "    </tr>\n",
       "    <tr>\n",
       "      <th>3</th>\n",
       "      <td>to</td>\n",
       "      <td>11</td>\n",
       "    </tr>\n",
       "    <tr>\n",
       "      <th>4</th>\n",
       "      <td>a</td>\n",
       "      <td>9</td>\n",
       "    </tr>\n",
       "    <tr>\n",
       "      <th>5</th>\n",
       "      <td>has</td>\n",
       "      <td>8</td>\n",
       "    </tr>\n",
       "    <tr>\n",
       "      <th>6</th>\n",
       "      <td>trillion</td>\n",
       "      <td>8</td>\n",
       "    </tr>\n",
       "    <tr>\n",
       "      <th>7</th>\n",
       "      <td>for</td>\n",
       "      <td>7</td>\n",
       "    </tr>\n",
       "    <tr>\n",
       "      <th>8</th>\n",
       "      <td>platform</td>\n",
       "      <td>6</td>\n",
       "    </tr>\n",
       "    <tr>\n",
       "      <th>9</th>\n",
       "      <td>market</td>\n",
       "      <td>6</td>\n",
       "    </tr>\n",
       "  </tbody>\n",
       "</table>\n",
       "</div>"
      ],
      "text/plain": [
       "       Word  Count\n",
       "0       its     18\n",
       "1       won     16\n",
       "2     kurly     12\n",
       "3        to     11\n",
       "4         a      9\n",
       "5       has      8\n",
       "6  trillion      8\n",
       "7       for      7\n",
       "8  platform      6\n",
       "9    market      6"
      ]
     },
     "execution_count": 121,
     "metadata": {},
     "output_type": "execute_result"
    }
   ],
   "source": [
    "list2 = market_counter.most_common(m_print)\n",
    "\n",
    "df = pd.DataFrame(list2, columns=['Word', 'Count'])\n",
    "df"
   ]
  },
  {
   "cell_type": "code",
   "execution_count": 122,
   "id": "27bb909c-c4b4-4644-b4f2-edd30a71f27f",
   "metadata": {},
   "outputs": [
    {
     "data": {
      "text/plain": [
       "<AxesSubplot:xlabel='Word'>"
      ]
     },
     "execution_count": 122,
     "metadata": {},
     "output_type": "execute_result"
    },
    {
     "data": {
      "image/png": "[encoded data removed]",
      "text/plain": [
       "<Figure size 432x288 with 1 Axes>"
      ]
     },
     "metadata": {
      "needs_background": "light"
     },
     "output_type": "display_data"
    }
   ],
   "source": [
    "df.plot.bar(x = 'Word', y = 'Count')"
   ]
  },
  {
   "cell_type": "code",
   "execution_count": null,
   "id": "73a5ccbc-0098-4fee-9afb-1d7fb934a90c",
   "metadata": {},
   "outputs": [],
   "source": []
  }
 ],
 "metadata": {
  "kernelspec": {
   "display_name": "Python 3 (ipykernel)",
   "language": "python",
   "name": "python3"
  },
  "language_info": {
   "codemirror_mode": {
    "name": "ipython",
    "version": 3
   },
   "file_extension": ".py",
   "mimetype": "text/x-python",
   "name": "python",
   "nbconvert_exporter": "python",
   "pygments_lexer": "ipython3",
   "version": "3.9.7"
  }
 },
 "nbformat": 4,
 "nbformat_minor": 5
}
