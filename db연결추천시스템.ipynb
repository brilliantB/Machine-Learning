{
 "cells": [
  {
   "cell_type": "code",
   "execution_count": 39,
   "id": "2ddd3197",
   "metadata": {
    "ExecuteTime": {
     "end_time": "2021-12-21T07:12:07.258619Z",
     "start_time": "2021-12-21T07:12:05.998164Z"
    }
   },
   "outputs": [
    {
     "name": "stdout",
     "output_type": "stream",
     "text": [
      "Requirement already satisfied: pymysql in /opt/anaconda3/lib/python3.9/site-packages (1.0.2)\r\n"
     ]
    }
   ],
   "source": [
    "!pip install pymysql"
   ]
  },
  {
   "cell_type": "code",
   "execution_count": 40,
   "id": "a3d3a23b",
   "metadata": {
    "ExecuteTime": {
     "end_time": "2021-12-21T07:12:07.460677Z",
     "start_time": "2021-12-21T07:12:07.455647Z"
    }
   },
   "outputs": [],
   "source": [
    "import pymysql"
   ]
  },
  {
   "cell_type": "code",
   "execution_count": 41,
   "id": "71b37da7",
   "metadata": {
    "ExecuteTime": {
     "end_time": "2021-12-21T07:12:07.817814Z",
     "start_time": "2021-12-21T07:12:07.803789Z"
    }
   },
   "outputs": [
    {
     "name": "stdout",
     "output_type": "stream",
     "text": [
      "1. 연결성공\n"
     ]
    }
   ],
   "source": [
    "con = pymysql.connect(\n",
    "    host = 'localhost',\n",
    "    port = 3306,\n",
    "    user = 'root',\n",
    "    password = 'duddnd12',\n",
    "    db = 'mldb3',\n",
    "    charset = 'utf8'\n",
    ")\n",
    "con\n",
    "print('1. 연결성공')"
   ]
  },
  {
   "cell_type": "code",
   "execution_count": 42,
   "id": "38f2d109",
   "metadata": {
    "ExecuteTime": {
     "end_time": "2021-12-21T07:12:08.076785Z",
     "start_time": "2021-12-21T07:12:08.071689Z"
    }
   },
   "outputs": [
    {
     "name": "stdout",
     "output_type": "stream",
     "text": [
      "2. 커서 객체 획득\n"
     ]
    }
   ],
   "source": [
    "cur = con.cursor()\n",
    "cur\n",
    "print('2. 커서 객체 획득')"
   ]
  },
  {
   "cell_type": "code",
   "execution_count": 43,
   "id": "65b7df73",
   "metadata": {
    "ExecuteTime": {
     "end_time": "2021-12-21T07:12:08.421695Z",
     "start_time": "2021-12-21T07:12:08.415982Z"
    }
   },
   "outputs": [],
   "source": [
    "sql = \"\"\"\n",
    "    select count(*), sum(totalprice) \n",
    "    FROM orderlist o5\n",
    "    group by o5.productid\n",
    "    \"\"\""
   ]
  },
  {
   "cell_type": "code",
   "execution_count": 44,
   "id": "af29946a",
   "metadata": {
    "ExecuteTime": {
     "end_time": "2021-12-21T07:12:08.780022Z",
     "start_time": "2021-12-21T07:12:08.769464Z"
    }
   },
   "outputs": [
    {
     "name": "stdout",
     "output_type": "stream",
     "text": [
      "3. sql전송 성공 3\n"
     ]
    }
   ],
   "source": [
    "result_count = cur.execute(sql)\n",
    "print('3. sql전송 성공', result_count)"
   ]
  },
  {
   "cell_type": "code",
   "execution_count": 45,
   "id": "bab4ae1b",
   "metadata": {
    "ExecuteTime": {
     "end_time": "2021-12-21T07:12:09.467488Z",
     "start_time": "2021-12-21T07:12:09.461549Z"
    }
   },
   "outputs": [
    {
     "name": "stdout",
     "output_type": "stream",
     "text": [
      "4. 검색결과 ----\n",
      "((4, Decimal('22000')), (2, Decimal('8000')), (1, Decimal('4000')))\n"
     ]
    }
   ],
   "source": [
    "rows = cur.fetchall()\n",
    "print('4. 검색결과 ----')\n",
    "print(rows)"
   ]
  },
  {
   "cell_type": "code",
   "execution_count": 46,
   "id": "98457e09",
   "metadata": {
    "ExecuteTime": {
     "end_time": "2021-12-21T07:12:10.092244Z",
     "start_time": "2021-12-21T07:12:10.087580Z"
    }
   },
   "outputs": [],
   "source": [
    "con.close()"
   ]
  },
  {
   "cell_type": "code",
   "execution_count": 47,
   "id": "020e8651",
   "metadata": {
    "ExecuteTime": {
     "end_time": "2021-12-21T07:12:23.089721Z",
     "start_time": "2021-12-21T07:12:23.082958Z"
    }
   },
   "outputs": [
    {
     "name": "stdout",
     "output_type": "stream",
     "text": [
      "0 (4, Decimal('22000'))\n",
      "1 (2, Decimal('8000'))\n",
      "2 (1, Decimal('4000'))\n"
     ]
    }
   ],
   "source": [
    "for index, row in enumerate(rows):\n",
    "    print(index, row)"
   ]
  },
  {
   "cell_type": "code",
   "execution_count": null,
   "id": "cfc312a9",
   "metadata": {},
   "outputs": [],
   "source": []
  }
 ],
 "metadata": {
  "kernelspec": {
   "display_name": "Python 3 (ipykernel)",
   "language": "python",
   "name": "python3"
  },
  "language_info": {
   "codemirror_mode": {
    "name": "ipython",
    "version": 3
   },
   "file_extension": ".py",
   "mimetype": "text/x-python",
   "name": "python",
   "nbconvert_exporter": "python",
   "pygments_lexer": "ipython3",
   "version": "3.9.7"
  },
  "toc": {
   "base_numbering": 1,
   "nav_menu": {},
   "number_sections": true,
   "sideBar": true,
   "skip_h1_title": false,
   "title_cell": "Table of Contents",
   "title_sidebar": "Contents",
   "toc_cell": false,
   "toc_position": {},
   "toc_section_display": true,
   "toc_window_display": false
  }
 },
 "nbformat": 4,
 "nbformat_minor": 5
}
